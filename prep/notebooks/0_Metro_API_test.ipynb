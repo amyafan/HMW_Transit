{
  "cells": [
    {
      "cell_type": "markdown",
      "metadata": {
        "id": "WceMdsq83MHN"
      },
      "source": [
        "# Metro transit information \n",
        "\n",
        "Using the metro API, this notebook gets data on travel times to Hattie Mae White on board meeting days. "
      ]
    },
    {
      "cell_type": "code",
      "execution_count": 1,
      "metadata": {
        "id": "zyQObn_z3Jk8"
      },
      "outputs": [],
      "source": [
        "import numpy as np\n",
        "import pandas as pd\n",
        "import requests\n",
        "import time\n",
        "import dateutil\n",
        "\n",
        "direc = \"//Users//afan//Desktop//Misc//HMW_Transit//\""
      ]
    },
    {
      "cell_type": "markdown",
      "metadata": {
        "id": "VV21ldscGxWv"
      },
      "source": [
        "## Testing things\n",
        "\n",
        "It's been a while since I've worked with an API, so let's just make sure some things are right"
      ]
    },
    {
      "cell_type": "code",
      "execution_count": 3,
      "metadata": {
        "colab": {
          "base_uri": "https://localhost:8080/"
        },
        "id": "jLZUFgVI3_vp",
        "outputId": "abdafbd3-f8a6-4223-be62-0601d87c55f7"
      },
      "outputs": [
        {
          "name": "stdout",
          "output_type": "stream",
          "text": [
            "200\n"
          ]
        }
      ],
      "source": [
        "# Let's get all the information on the one route I ride the most often\n",
        "response = requests.get(\"https://api.ridemetro.org/data/Routes?$filter=RouteName eq '004'&subscription-key=4e7902d1a2ae42df978fe20387049854\")\n",
        "print(response.status_code)"
      ]
    },
    {
      "cell_type": "code",
      "execution_count": null,
      "metadata": {
        "colab": {
          "base_uri": "https://localhost:8080/"
        },
        "id": "-Tqp0dE16Vpi",
        "outputId": "0cfc4959-53cf-40ca-caf7-ab79d0316762"
      },
      "outputs": [],
      "source": [
        "response.json()"
      ]
    },
    {
      "cell_type": "code",
      "execution_count": 4,
      "metadata": {
        "colab": {
          "base_uri": "https://localhost:8080/"
        },
        "id": "r9muqIBa-Z9-",
        "outputId": "43241fae-4c12-455a-cb6d-8e28b5f56f4b"
      },
      "outputs": [
        {
          "name": "stdout",
          "output_type": "stream",
          "text": [
            "200\n"
          ]
        }
      ],
      "source": [
        "# Now let's get all the information we can about this route. This is literally all the stops! \n",
        "response = requests.get(\"https://api.ridemetro.org/data/Routes('Ho414_4620_41894')?subscription-key=4e7902d1a2ae42df978fe20387049854&$expand=Stops\")\n",
        "print(response.status_code)"
      ]
    },
    {
      "cell_type": "code",
      "execution_count": null,
      "metadata": {
        "id": "3KE3RM5cEl2d"
      },
      "outputs": [],
      "source": [
        "response.json()"
      ]
    },
    {
      "cell_type": "code",
      "execution_count": 5,
      "metadata": {
        "colab": {
          "base_uri": "https://localhost:8080/"
        },
        "id": "Kg2SxYbTFB_D",
        "outputId": "07f1f364-ec60-4833-eacd-f6b44d036a0e"
      },
      "outputs": [
        {
          "name": "stdout",
          "output_type": "stream",
          "text": [
            "200\n"
          ]
        }
      ],
      "source": [
        "# Let's get all the vehicles\n",
        "response = requests.get(\"https://api.ridemetro.org/data/Vehicles?subscription-key=4e7902d1a2ae42df978fe20387049854\")\n",
        "print(response.status_code)\n"
      ]
    },
    {
      "cell_type": "code",
      "execution_count": null,
      "metadata": {
        "id": "x67OZl-dGLpk"
      },
      "outputs": [],
      "source": [
        "response.json()"
      ]
    },
    {
      "cell_type": "markdown",
      "metadata": {
        "id": "NKGzYlBCG6qU"
      },
      "source": [
        "## Exploring bus stops around Hattie Mae White\n",
        "\n",
        "Let's start with how accessible Hattie Mae White is by public transit: Let's see what stops are in the area"
      ]
    },
    {
      "cell_type": "code",
      "execution_count": 7,
      "metadata": {
        "id": "0Jy1grwsHRUi"
      },
      "outputs": [],
      "source": [
        "# Hattie Mae White coordinatess\n",
        "\n",
        "HMW_lat = 29.802759908899148\n",
        "HMW_long = -95.45410037006431\n",
        "\n",
        "key = \"4e7902d1a2ae42df978fe20387049854\""
      ]
    },
    {
      "cell_type": "code",
      "execution_count": 8,
      "metadata": {
        "colab": {
          "base_uri": "https://localhost:8080/"
        },
        "id": "4pibQSt2IMbO",
        "outputId": "748f34ae-08fb-4974-90df-9a97c3f5b2d6"
      },
      "outputs": [
        {
          "name": "stdout",
          "output_type": "stream",
          "text": [
            "200\n"
          ]
        }
      ],
      "source": [
        "HMW_stops = requests.get(f\"https://api.ridemetro.org/data/GeoAreas('{HMW_lat}|{HMW_long}|0.3')/Stops?subscription-key={key}\")\n",
        "print(HMW_stops.status_code)"
      ]
    },
    {
      "cell_type": "code",
      "execution_count": null,
      "metadata": {
        "id": "04Fy1w1PcnAu"
      },
      "outputs": [],
      "source": [
        "HMW_stops.json()"
      ]
    }
  ],
  "metadata": {
    "colab": {
      "collapsed_sections": [],
      "name": "1_Metro_API.ipynb",
      "provenance": []
    },
    "kernelspec": {
      "display_name": "Python 3",
      "name": "python3"
    },
    "language_info": {
      "codemirror_mode": {
        "name": "ipython",
        "version": 3
      },
      "file_extension": ".py",
      "mimetype": "text/x-python",
      "name": "python",
      "nbconvert_exporter": "python",
      "pygments_lexer": "ipython3",
      "version": "3.9.7"
    }
  },
  "nbformat": 4,
  "nbformat_minor": 0
}
