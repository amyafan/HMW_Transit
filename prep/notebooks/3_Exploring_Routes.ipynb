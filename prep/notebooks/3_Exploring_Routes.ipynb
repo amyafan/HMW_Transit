{
 "cells": [
  {
   "cell_type": "markdown",
   "metadata": {},
   "source": [
    "# Exploring the routes\n",
    "\n",
    "After we pulled all the .json files, we can have a lot of fun trying to analyze them"
   ]
  },
  {
   "cell_type": "code",
   "execution_count": 232,
   "metadata": {},
   "outputs": [],
   "source": [
    "# import all the necessary things \n",
    "\n",
    "import json\n",
    "import dask.bag as db\n",
    "import graphviz\n",
    "from itertools import compress\n",
    "from datetime import datetime\n",
    "import pytz\n",
    "\n",
    "# working directory \n",
    "\n",
    "json_loc =  \"//Users//afan//Desktop//Misc//HMW_Transit//prep//int_data//bus_routes//\"\n",
    "\n",
    "# time zones!\n",
    "\n",
    "cst = pytz.timezone('US/Central')\n"
   ]
  },
  {
   "cell_type": "markdown",
   "metadata": {},
   "source": [
    "Let's try navigating one of these beasts first "
   ]
  },
  {
   "cell_type": "code",
   "execution_count": 2,
   "metadata": {},
   "outputs": [],
   "source": [
    "a_str = json_loc + \"/'101912002_BELLAIREHS_arr.json\"\n",
    "f = open(a_str)\n",
    "\n",
    "a = json.load(f)"
   ]
  },
  {
   "cell_type": "code",
   "execution_count": 3,
   "metadata": {},
   "outputs": [
    {
     "data": {
      "text/plain": [
       "dict_keys(['geocoded_waypoints', 'routes', 'status'])"
      ]
     },
     "execution_count": 3,
     "metadata": {},
     "output_type": "execute_result"
    }
   ],
   "source": [
    "a.keys()"
   ]
  },
  {
   "cell_type": "code",
   "execution_count": 4,
   "metadata": {},
   "outputs": [
    {
     "data": {
      "text/plain": [
       "list"
      ]
     },
     "execution_count": 4,
     "metadata": {},
     "output_type": "execute_result"
    }
   ],
   "source": [
    "type(a['routes'])"
   ]
  },
  {
   "cell_type": "code",
   "execution_count": 5,
   "metadata": {},
   "outputs": [
    {
     "data": {
      "text/plain": [
       "{'bounds': {'northeast': {'lat': 29.803869, 'lng': -95.4031601},\n",
       "  'southwest': {'lat': 29.6890314, 'lng': -95.4680375}},\n",
       " 'copyrights': 'Map data ©2022',\n",
       " 'legs': [{'arrival_time': {'text': '4:49pm',\n",
       "    'time_zone': 'America/Chicago',\n",
       "    'value': 1642027797},\n",
       "   'departure_time': {'text': '3:27pm',\n",
       "    'time_zone': 'America/Chicago',\n",
       "    'value': 1642022845},\n",
       "   'distance': {'text': '15.3 mi', 'value': 24624},\n",
       "   'duration': {'text': '1 hour 23 mins', 'value': 4952},\n",
       "   'end_address': '4400 W 18th St, Houston, TX 77092, USA',\n",
       "   'end_location': {'lat': 29.8019199, 'lng': -95.45428179999999},\n",
       "   'start_address': '5100 Maple St, Bellaire, TX 77401, USA',\n",
       "   'start_location': {'lat': 29.691229, 'lng': -95.4679906},\n",
       "   'steps': [{'distance': {'text': '0.2 mi', 'value': 272},\n",
       "     'duration': {'text': '4 mins', 'value': 220},\n",
       "     'end_location': {'lat': 29.6890314, 'lng': -95.4680369},\n",
       "     'html_instructions': 'Walk to Beechnut St @ S Rice Ave',\n",
       "     'polyline': {'points': 'eaftD|aueQ?[L?nCCL?r@?jAEZ@J?T@LBB?NDLBN@LB?V'},\n",
       "     'start_location': {'lat': 29.691229, 'lng': -95.4679906},\n",
       "     'steps': [{'distance': {'text': '59 ft', 'value': 18},\n",
       "       'duration': {'text': '1 min', 'value': 13},\n",
       "       'end_location': {'lat': 29.6911585, 'lng': -95.4678465},\n",
       "       'html_instructions': 'Head <b>east</b> on <b>Maple St</b> toward <b>S Rice Ave</b>',\n",
       "       'polyline': {'points': 'eaftD|aueQ?[L?'},\n",
       "       'start_location': {'lat': 29.691229, 'lng': -95.4679906},\n",
       "       'travel_mode': 'WALKING'},\n",
       "      {'distance': {'text': '0.1 mi', 'value': 237},\n",
       "       'duration': {'text': '3 mins', 'value': 185},\n",
       "       'end_location': {'lat': 29.6890327, 'lng': -95.46791549999999},\n",
       "       'html_instructions': 'Turn <b>right</b> onto <b>S Rice Ave</b>',\n",
       "       'maneuver': 'turn-right',\n",
       "       'polyline': {'points': 'w`ftD`aueQnCCL?r@?jAEZ@J?T@LBB?NDLBN@LB'},\n",
       "       'start_location': {'lat': 29.6911585, 'lng': -95.4678465},\n",
       "       'travel_mode': 'WALKING'},\n",
       "      {'distance': {'text': '56 ft', 'value': 17},\n",
       "       'duration': {'text': '1 min', 'value': 22},\n",
       "       'end_location': {'lat': 29.6890314, 'lng': -95.4680369},\n",
       "       'html_instructions': 'Turn <b>right</b> onto <b>Beechnut St</b>',\n",
       "       'maneuver': 'turn-right',\n",
       "       'polyline': {'points': 'msetDnaueQ?V'},\n",
       "       'start_location': {'lat': 29.6890327, 'lng': -95.46791549999999},\n",
       "       'travel_mode': 'WALKING'}],\n",
       "     'travel_mode': 'WALKING'},\n",
       "    {'distance': {'text': '4.4 mi', 'value': 7160},\n",
       "     'duration': {'text': '17 mins', 'value': 1014},\n",
       "     'end_location': {'lat': 29.704328, 'lng': -95.40361999999999},\n",
       "     'html_instructions': 'Bus towards Eastwood TC',\n",
       "     'polyline': {'points': 'osetDfbueQE??c@?cA?aA?i@?W?_@AO?a@?u@?i@A_C?c@?_@?}@A{BAi@?]A_A?_BCaD?c@?u@AeC?uA?{CA{@?cA@q@?_A@s@?g@HkAD{@?WBy@Ao@AyAAgB?UCsE?W?i@Ac@AcDC_D@Q?cAAo@ASAYEs@COEc@Gk@Ku@EWQw@EQEW[qAE]CQEWEe@Ee@Ak@Ae@AU?i@ASAaC?u@?EAwFAE?AA??U?]CY?IAOE[E_@Ke@G[Ka@KYM[KWKSMWMQOSQUQUa@c@AAMOGKQYKQCIKUIWM]Ig@EUAICUCWAYAS?U?a@AgACuAAs@?WB]?o@?m@A_B?cC?a@Ac@?GEk@Ei@OkAMy@I[Og@Uo@KU?CKWWk@MYGQGUGSGWI[Ge@G_@E[Eo@Ak@?Y?E?e@@SBc@?OX}D@K@_@@I?[?g@?ECi@Gk@E_@GYEUSk@CIOc@AAEIO[KQCESYcAuAQWq@{@]a@KKOM_@]a@]u@m@cCoB[WWQk@c@w@m@a@_@OKa@e@W]]g@S]KWAAO_@M_@GUCKCMEQMo@?CGq@ASCWAa@?cA?IBs@H}@@O@AHYx@aEZyAVoAFk@Dg@?M@W?G?MCk@Es@Iy@AEKg@GSGQK[Wm@EKw@kB[q@GIOc@IFEISg@Oc@K_@QYI]Mq@OgAIiAAgA?gAFyCDgAHeB`@}DJ{@n@kFiBuAFKAAKISMe@_@IGMIo@g@i@_@SOyAiAOKMK}AiAGEEEIC_@UQMq@g@g@_@MMaC_BcD_CqCoBcBiAUUADa@YJWtAaDVq@Nq@L{@Bq@}@GKAMEKKEQ?QBOTq@BMAUBMBK@KB]EIKEa@H{@LA?@J'},\n",
       "     'start_location': {'lat': 29.689036, 'lng': -95.468037},\n",
       "     'transit_details': {'arrival_stop': {'location': {'lat': 29.704328,\n",
       "        'lng': -95.40361999999999},\n",
       "       'name': 'Texas Medical Center Transit Center'},\n",
       "      'arrival_time': {'text': '3:48pm',\n",
       "       'time_zone': 'America/Chicago',\n",
       "       'value': 1642024080},\n",
       "      'departure_stop': {'location': {'lat': 29.689036, 'lng': -95.468037},\n",
       "       'name': 'Beechnut St @ S Rice Ave'},\n",
       "      'departure_time': {'text': '3:31pm',\n",
       "       'time_zone': 'America/Chicago',\n",
       "       'value': 1642023066},\n",
       "      'headsign': 'Eastwood TC',\n",
       "      'line': {'agencies': [{'name': 'Metropolitan Transit Authority of Harris County',\n",
       "         'phone': '1 (713) 635-4000',\n",
       "         'url': 'http://www.ridemetro.org/'}],\n",
       "       'color': '#004080',\n",
       "       'name': 'Beechnut',\n",
       "       'short_name': '4',\n",
       "       'text_color': '#ffffff',\n",
       "       'url': 'https://www.ridemetro.org/MetroPDFs/Schedules/BusSchedules/n004-Beechnut.pdf',\n",
       "       'vehicle': {'icon': '//maps.gstatic.com/mapfiles/transit/iw2/6/bus2.png',\n",
       "        'name': 'Bus',\n",
       "        'type': 'BUS'}},\n",
       "      'num_stops': 24,\n",
       "      'trip_short_name': 'BEECHNUT'},\n",
       "     'travel_mode': 'TRANSIT'},\n",
       "    {'distance': {'text': '7.9 mi', 'value': 12693},\n",
       "     'duration': {'text': '34 mins', 'value': 2040},\n",
       "     'end_location': {'lat': 29.803613, 'lng': -95.41008699999999},\n",
       "     'html_instructions': 'Bus towards N Shepherd P&R',\n",
       "     'polyline': {'points': 'ashtDroheQFj@kAh@QBKAKKCQ@O?i@?A?e@j@Kn@KDAp@Mr@KPHDPDVERC\\\\AJCJCL@TCLUp@CN?PDPJJLDhAHCp@Mz@Op@Wp@gAhC?@CFIPEJIPEHELWh@QXINOPSNkAl@OH]PE@MFC@MBS@e@@M?o@A]??|B?vA?^@nG?j@?R?P@b@?~@@rAA`A@n@?h@oA?[?_@?WAsBBQ?Q?eD@uB@S?Y?yAA{@@yC@kC@K?gD?cDB_D@}A?oA@_B@c@?cE@w@@}AAAc@?g@AQCYCg@Iq@E[Gc@Km@Os@Me@IUSu@GUw@oCMc@Uw@cBp@IDkAb@kAf@{@^SHy@ZEBSF_@JKBi@LA@SDWDa@FI@a@F]DWBYBQ@o@DA?M@w@@W@M?K?oA?gA?K?sA@uA@K@iB?s@?iD@yB?S?c@@gB?oCBU@eB@e@?]?eA?S?O?U?aA?i@@A?[?A?Y@k@?]?m@?W?iD@c@@aA@eADcAAQ?aA?S@c@?U@y@Ao@AgB?cA@sA?cA@Q?iD@wA?u@@e@?c@?M?_A@]?y@?y@@Y?K?y@@O?s@?y@?eB@cA?y@@O?K?W?I?c@?E?}ABE?q@?gA?]Aa@G[GSCg@AS@M?Y?a@?m@?_A?c@@S?sC@gA@iA?kD?iB?_@?[?Y?q@@gB?{@?Y@qA?eA?I?uD@i@@_A?Q?O?{@?m@?M?g@@y@@g@@Q?[?{@?OGEAGCEEGCECECGEY[OYEKCECGEQ_AuCAEEIQe@IQCEACGIEGEGGIIIEEOKGEQKMEk@Oo@@M?{@?WIgB?KEC?SAYAU?IA]?SAeA?S?g@AcA@EBIFKFA@CBIHCDGHGXQ@aAJa@Da@DC?}AL]D]DK@KEA?A?I?G?M?MAAAA?C?AAE?CAA?OCC?AAM?WA[FE@E@c@HG@YD_@HeAPKBw@TgABW?C?W?k@@_A@K?[@SBe@Dc@@SBa@?eA@[?M?eA@c@?e@?]?_@@Y?k@?M?qCBg@?Q?M@U?e@?M?qCB]?w@@_@?E@W?e@?mB@gA?k@@]?qB@c@@a@CE@e@@m@?S@kA?cA@aCBM?oC@eA@oA@Y?[?O?a@Bm@?U?o@?e@@I?A?A?y@?M@YAS@O?_@@w@@y@?]?M?YAMAMCOEYIIAa@Kc@Ku@QGACAm@MAAOCIAK?OAM?M?A?I?O?S@M@IBc@Jq@P}@Vg@Jk@Ji@Hc@Be@DE?c@Bs@ByABA?oCBYA}B@I?A?q@@K?E?k@?C?O@u@?S?k@@w@@K?a@?O?[@U?U?U?k@@k@?Y@C?I?S?kC@y@@K?W@[?S?A?W?G?U@S?c@?e@@O?E?[?mCBeA@U?Y?S?U@A?S?aA@_@?e@@Q?S?U?s@?C?W?qB@sB@eBBg@?oBBaGBq@@w@?aB@i@@W@_B@yA@aB@Q?qD@U@gB?eB@eBA_A@?K'},\n",
       "     'start_location': {'lat': 29.704328, 'lng': -95.40361999999999},\n",
       "     'transit_details': {'arrival_stop': {'location': {'lat': 29.803613,\n",
       "        'lng': -95.41008699999999},\n",
       "       'name': 'N Shepherd Dr @ W 20th St'},\n",
       "      'arrival_time': {'text': '4:29pm',\n",
       "       'time_zone': 'America/Chicago',\n",
       "       'value': 1642026540},\n",
       "      'departure_stop': {'location': {'lat': 29.704328,\n",
       "        'lng': -95.40361999999999},\n",
       "       'name': 'Texas Medical Center Transit Center'},\n",
       "      'departure_time': {'text': '3:55pm',\n",
       "       'time_zone': 'America/Chicago',\n",
       "       'value': 1642024500},\n",
       "      'headsign': 'N Shepherd P&R',\n",
       "      'line': {'agencies': [{'name': 'Metropolitan Transit Authority of Harris County',\n",
       "         'phone': '1 (713) 635-4000',\n",
       "         'url': 'http://www.ridemetro.org/'}],\n",
       "       'color': '#004080',\n",
       "       'name': 'Shepherd',\n",
       "       'short_name': '27',\n",
       "       'text_color': '#ffffff',\n",
       "       'url': 'https://www.ridemetro.org/MetroPDFs/Schedules/BusSchedules/n027-Shepherd.pdf',\n",
       "       'vehicle': {'icon': '//maps.gstatic.com/mapfiles/transit/iw2/6/bus2.png',\n",
       "        'name': 'Bus',\n",
       "        'type': 'BUS'}},\n",
       "      'num_stops': 53,\n",
       "      'trip_short_name': 'SHEPHERD'},\n",
       "     'travel_mode': 'TRANSIT'},\n",
       "    {'distance': {'text': '112 ft', 'value': 34},\n",
       "     'duration': {'text': '1 min', 'value': 34},\n",
       "     'end_location': {'lat': 29.803842, 'lng': -95.41002979999999},\n",
       "     'html_instructions': 'Walk to W 20th St @ N Shepherd Dr',\n",
       "     'polyline': {'points': 'q_|tDdxieQ_@@M??Q'},\n",
       "     'start_location': {'lat': 29.8036121, 'lng': -95.410111},\n",
       "     'steps': [{'distance': {'text': '69 ft', 'value': 21},\n",
       "       'duration': {'text': '1 min', 'value': 15},\n",
       "       'end_location': {'lat': 29.8038391, 'lng': -95.4101207},\n",
       "       'html_instructions': 'Head <b>north</b> on <b>N Shepherd Dr</b> toward <b>W 20th St</b>',\n",
       "       'polyline': {'points': 'q_|tDdxieQ_@@M?'},\n",
       "       'start_location': {'lat': 29.8036121, 'lng': -95.410111},\n",
       "       'travel_mode': 'WALKING'},\n",
       "      {'distance': {'text': '43 ft', 'value': 13},\n",
       "       'duration': {'text': '1 min', 'value': 19},\n",
       "       'end_location': {'lat': 29.803842, 'lng': -95.41002979999999},\n",
       "       'html_instructions': 'Turn <b>right</b> onto <b>W 20th St</b>',\n",
       "       'maneuver': 'turn-right',\n",
       "       'polyline': {'points': '_a|tDfxieQ?Q'},\n",
       "       'start_location': {'lat': 29.8038391, 'lng': -95.4101207},\n",
       "       'travel_mode': 'WALKING'}],\n",
       "     'travel_mode': 'WALKING'},\n",
       "    {'distance': {'text': '2.7 mi', 'value': 4367},\n",
       "     'duration': {'text': '10 mins', 'value': 582},\n",
       "     'end_location': {'lat': 29.80163, 'lng': -95.454342},\n",
       "     'html_instructions': 'Bus towards Memorial City',\n",
       "     'polyline': {'points': 'ea|tDvwieQJ?@V?fA@`ABfE?tABtJ?pB@rA?r@?H?|@?jB?@?j@@h@AL?\\\\?J@f@?|B?h@?|@?n@?N?|G?J@tE?d@@dC?p@AL@J?V@P@H?B?D@F@HBH@JDPDLDLDHDJDJHLFHFHLL?@TVTVn@v@NRh@h@NPVX^f@BJBFBFf@v@P`@DZDVBT@F?D@F?H?P@P?X?N?F?j@@pAIpB@f@?V?fA?j@?V@h@AjA?h@@~@?b@@^Af@@d@?X?bA?jA?b@@nC?J?d@Aj@?v@?P@dB?jA?bC?`A?\\\\@dH?`D?dC@fE?jD?T@`F@vB?jD?vC?X?`E@V@zCAb@?fAAX@fB@fA?T@|B?l@A~A?x@?XAzB?`A?dB?l@?P?F?H@^?Z?@?H?@?Z?h@?f@?j@?^?t@@j@BnAAV@|@@fB?bBG?'},\n",
       "     'start_location': {'lat': 29.803869, 'lng': -95.410039},\n",
       "     'transit_details': {'arrival_stop': {'location': {'lat': 29.80163,\n",
       "        'lng': -95.454342},\n",
       "       'name': 'W 18th St @ Northwest Fwy'},\n",
       "      'arrival_time': {'text': '4:48pm',\n",
       "       'time_zone': 'America/Chicago',\n",
       "       'value': 1642027720},\n",
       "      'departure_stop': {'location': {'lat': 29.803869, 'lng': -95.410039},\n",
       "       'name': 'W 20th St @ N Shepherd Dr'},\n",
       "      'departure_time': {'text': '4:38pm',\n",
       "       'time_zone': 'America/Chicago',\n",
       "       'value': 1642027138},\n",
       "      'headsign': 'Memorial City',\n",
       "      'line': {'agencies': [{'name': 'Metropolitan Transit Authority of Harris County',\n",
       "         'phone': '1 (713) 635-4000',\n",
       "         'url': 'http://www.ridemetro.org/'}],\n",
       "       'color': '#004080',\n",
       "       'name': 'Long Point / Cavalcade',\n",
       "       'short_name': '26',\n",
       "       'text_color': '#ffffff',\n",
       "       'url': 'https://www.ridemetro.org/MetroPDFs/Schedules/BusSchedules/n026-Long-Point-Cavalcade.pdf',\n",
       "       'vehicle': {'icon': '//maps.gstatic.com/mapfiles/transit/iw2/6/bus2.png',\n",
       "        'name': 'Bus',\n",
       "        'type': 'BUS'}},\n",
       "      'num_stops': 14,\n",
       "      'trip_short_name': 'LONGPOINT'},\n",
       "     'travel_mode': 'TRANSIT'},\n",
       "    {'distance': {'text': '322 ft', 'value': 98},\n",
       "     'duration': {'text': '1 min', 'value': 77},\n",
       "     'end_location': {'lat': 29.8019199, 'lng': -95.45428179999999},\n",
       "     'html_instructions': 'Walk to 4400 W 18th St, Houston, TX 77092, USA',\n",
       "     'polyline': {'points': 'es{tDrlreQ?z@YEc@E?G@Q@a@'},\n",
       "     'start_location': {'lat': 29.8016264, 'lng': -95.454342},\n",
       "     'steps': [{'distance': {'text': '95 ft', 'value': 29},\n",
       "       'duration': {'text': '1 min', 'value': 22},\n",
       "       'end_location': {'lat': 29.8016252, 'lng': -95.45463819999999},\n",
       "       'html_instructions': 'Head <b>west</b> on <b>W 18th St</b>/<wbr/><b>NW Mall</b>',\n",
       "       'polyline': {'points': 'es{tDrlreQ?z@'},\n",
       "       'start_location': {'lat': 29.8016264, 'lng': -95.454342},\n",
       "       'travel_mode': 'WALKING'},\n",
       "      {'distance': {'text': '131 ft', 'value': 40},\n",
       "       'duration': {'text': '1 min', 'value': 33},\n",
       "       'end_location': {'lat': 29.8019405, 'lng': -95.4545788},\n",
       "       'html_instructions': 'Turn <b>right</b><div style=\"font-size:0.9em\">Restricted usage road</div>',\n",
       "       'maneuver': 'turn-right',\n",
       "       'polyline': {'points': 'es{tDnnreQYEc@E'},\n",
       "       'start_location': {'lat': 29.8016252, 'lng': -95.45463819999999},\n",
       "       'travel_mode': 'WALKING'},\n",
       "      {'distance': {'text': '95 ft', 'value': 29},\n",
       "       'duration': {'text': '1 min', 'value': 22},\n",
       "       'end_location': {'lat': 29.8019199, 'lng': -95.45428179999999},\n",
       "       'html_instructions': 'Turn <b>right</b><div style=\"font-size:0.9em\">Restricted usage road</div><div style=\"font-size:0.9em\">Destination will be on the left</div>',\n",
       "       'maneuver': 'turn-right',\n",
       "       'polyline': {'points': 'cu{tDbnreQ?G@Q@a@'},\n",
       "       'start_location': {'lat': 29.8019405, 'lng': -95.4545788},\n",
       "       'travel_mode': 'WALKING'}],\n",
       "     'travel_mode': 'WALKING'}],\n",
       "   'traffic_speed_entry': [],\n",
       "   'via_waypoint': []}],\n",
       " 'overview_polyline': {'points': 'eaftD|aueQ?[L?|CCr@?jAEf@@v@J\\\\DLB?VG??gB?cDCsKI_RCsL@uB@sBHsBDsA@iBCaECkHEyJEaDWsCQmAWiAa@iBIo@K}@GqAEyBCuLC]EqAK{@SaAW{@Ys@w@qAgAqAU[]k@g@uAU}AG{AGsFBu@?}ACiHEs@UuBWuAe@wAo@}Ae@uAa@yBKkAAeADcB\\\\yF@sAKuAMy@YaASm@c@y@mBmCoA}A[Y{FyEwC{Bq@k@y@cAq@eAMY]_AKa@WsAO_C?mABs@H}@BQbA{Er@iDLsA@{@I_BK_AS{@Sm@]y@sA}CWm@IFEIc@kAK_@QYWoAYqCAoCLaFHeB`@}Dz@gHiBuAFKMKqA_AgEaDcCgBaAm@yAgAoCmBuHoFyB_BADa@Y`ByDf@cBL{@Bq@iAIMEKKEc@XaABMAUBMDWB]EIKEa@H}@LHv@kAh@QBKAKKAa@?k@?e@j@Kt@MdBYPHDPDVEREh@CJCL@TY~@C`@DPJJLDhAHCp@Mz@g@bBgAjC]v@u@zAY`@_B|@aAd@QDy@B}@A]??|B?vB@zH@hC@nFcDA}HD}F?mJDkIB}F@wKDuC?AkASeCM_A[aBs@gCeAsDUw@cBp@uAh@gCfAgBp@wA^wATqBTqAHiBBwF@aBB}C?{IBsJFoH@qD@gHDiCBsA?gC@oH?eNDaIDeKBqCB}CA}@O{@E}A@wRDs[F_D@oCB{@?OGMEYQa@a@Ue@mAuDc@gAS[]a@WQ_@Qk@Oo@@iA?WIgB?OEmAEkCAkB?OJ[VKNGXQ@cBPe@DeDZYEc@AAASC{@GsEx@cAX_BBgCBaBJw@DgB@sC@}B@oIDyIF_GB}D@wOJaIFgLFu@GuA]eBa@iAUw@Ao@@WDuA\\\\eBb@uATsBLmCFqCBcD?oB@mEDgFBeMHuPLeMFoSLuRJkE?_A@?K?B_@@M??QE@J?@~AHtU@zM@nJB|W@bABZLp@Vp@^l@x@~@hBtBf@j@^f@BJFNf@v@P`@Jr@D\\\\@h@@bA@|BIpB@f@?~A?bA?tB@hB@pC?zLBdWDvd@@jKA`HDbIA`F?tK?bEDpE@`HG??z@YEc@E?GBs@'},\n",
       " 'summary': '',\n",
       " 'warnings': ['Walking directions are in beta. Use caution – This route may be missing sidewalks or pedestrian paths.'],\n",
       " 'waypoint_order': []}"
      ]
     },
     "execution_count": 5,
     "metadata": {},
     "output_type": "execute_result"
    }
   ],
   "source": [
    "# let's just pick the first route\n",
    "a['routes'][0]"
   ]
  },
  {
   "cell_type": "code",
   "execution_count": 6,
   "metadata": {},
   "outputs": [
    {
     "data": {
      "text/plain": [
       "dict_keys(['bounds', 'copyrights', 'legs', 'overview_polyline', 'summary', 'warnings', 'waypoint_order'])"
      ]
     },
     "execution_count": 6,
     "metadata": {},
     "output_type": "execute_result"
    }
   ],
   "source": [
    "a['routes'][0].keys()"
   ]
  },
  {
   "cell_type": "code",
   "execution_count": 7,
   "metadata": {},
   "outputs": [
    {
     "data": {
      "text/plain": [
       "[{'arrival_time': {'text': '4:49pm',\n",
       "   'time_zone': 'America/Chicago',\n",
       "   'value': 1642027797},\n",
       "  'departure_time': {'text': '3:27pm',\n",
       "   'time_zone': 'America/Chicago',\n",
       "   'value': 1642022845},\n",
       "  'distance': {'text': '15.3 mi', 'value': 24624},\n",
       "  'duration': {'text': '1 hour 23 mins', 'value': 4952},\n",
       "  'end_address': '4400 W 18th St, Houston, TX 77092, USA',\n",
       "  'end_location': {'lat': 29.8019199, 'lng': -95.45428179999999},\n",
       "  'start_address': '5100 Maple St, Bellaire, TX 77401, USA',\n",
       "  'start_location': {'lat': 29.691229, 'lng': -95.4679906},\n",
       "  'steps': [{'distance': {'text': '0.2 mi', 'value': 272},\n",
       "    'duration': {'text': '4 mins', 'value': 220},\n",
       "    'end_location': {'lat': 29.6890314, 'lng': -95.4680369},\n",
       "    'html_instructions': 'Walk to Beechnut St @ S Rice Ave',\n",
       "    'polyline': {'points': 'eaftD|aueQ?[L?nCCL?r@?jAEZ@J?T@LBB?NDLBN@LB?V'},\n",
       "    'start_location': {'lat': 29.691229, 'lng': -95.4679906},\n",
       "    'steps': [{'distance': {'text': '59 ft', 'value': 18},\n",
       "      'duration': {'text': '1 min', 'value': 13},\n",
       "      'end_location': {'lat': 29.6911585, 'lng': -95.4678465},\n",
       "      'html_instructions': 'Head <b>east</b> on <b>Maple St</b> toward <b>S Rice Ave</b>',\n",
       "      'polyline': {'points': 'eaftD|aueQ?[L?'},\n",
       "      'start_location': {'lat': 29.691229, 'lng': -95.4679906},\n",
       "      'travel_mode': 'WALKING'},\n",
       "     {'distance': {'text': '0.1 mi', 'value': 237},\n",
       "      'duration': {'text': '3 mins', 'value': 185},\n",
       "      'end_location': {'lat': 29.6890327, 'lng': -95.46791549999999},\n",
       "      'html_instructions': 'Turn <b>right</b> onto <b>S Rice Ave</b>',\n",
       "      'maneuver': 'turn-right',\n",
       "      'polyline': {'points': 'w`ftD`aueQnCCL?r@?jAEZ@J?T@LBB?NDLBN@LB'},\n",
       "      'start_location': {'lat': 29.6911585, 'lng': -95.4678465},\n",
       "      'travel_mode': 'WALKING'},\n",
       "     {'distance': {'text': '56 ft', 'value': 17},\n",
       "      'duration': {'text': '1 min', 'value': 22},\n",
       "      'end_location': {'lat': 29.6890314, 'lng': -95.4680369},\n",
       "      'html_instructions': 'Turn <b>right</b> onto <b>Beechnut St</b>',\n",
       "      'maneuver': 'turn-right',\n",
       "      'polyline': {'points': 'msetDnaueQ?V'},\n",
       "      'start_location': {'lat': 29.6890327, 'lng': -95.46791549999999},\n",
       "      'travel_mode': 'WALKING'}],\n",
       "    'travel_mode': 'WALKING'},\n",
       "   {'distance': {'text': '4.4 mi', 'value': 7160},\n",
       "    'duration': {'text': '17 mins', 'value': 1014},\n",
       "    'end_location': {'lat': 29.704328, 'lng': -95.40361999999999},\n",
       "    'html_instructions': 'Bus towards Eastwood TC',\n",
       "    'polyline': {'points': 'osetDfbueQE??c@?cA?aA?i@?W?_@AO?a@?u@?i@A_C?c@?_@?}@A{BAi@?]A_A?_BCaD?c@?u@AeC?uA?{CA{@?cA@q@?_A@s@?g@HkAD{@?WBy@Ao@AyAAgB?UCsE?W?i@Ac@AcDC_D@Q?cAAo@ASAYEs@COEc@Gk@Ku@EWQw@EQEW[qAE]CQEWEe@Ee@Ak@Ae@AU?i@ASAaC?u@?EAwFAE?AA??U?]CY?IAOE[E_@Ke@G[Ka@KYM[KWKSMWMQOSQUQUa@c@AAMOGKQYKQCIKUIWM]Ig@EUAICUCWAYAS?U?a@AgACuAAs@?WB]?o@?m@A_B?cC?a@Ac@?GEk@Ei@OkAMy@I[Og@Uo@KU?CKWWk@MYGQGUGSGWI[Ge@G_@E[Eo@Ak@?Y?E?e@@SBc@?OX}D@K@_@@I?[?g@?ECi@Gk@E_@GYEUSk@CIOc@AAEIO[KQCESYcAuAQWq@{@]a@KKOM_@]a@]u@m@cCoB[WWQk@c@w@m@a@_@OKa@e@W]]g@S]KWAAO_@M_@GUCKCMEQMo@?CGq@ASCWAa@?cA?IBs@H}@@O@AHYx@aEZyAVoAFk@Dg@?M@W?G?MCk@Es@Iy@AEKg@GSGQK[Wm@EKw@kB[q@GIOc@IFEISg@Oc@K_@QYI]Mq@OgAIiAAgA?gAFyCDgAHeB`@}DJ{@n@kFiBuAFKAAKISMe@_@IGMIo@g@i@_@SOyAiAOKMK}AiAGEEEIC_@UQMq@g@g@_@MMaC_BcD_CqCoBcBiAUUADa@YJWtAaDVq@Nq@L{@Bq@}@GKAMEKKEQ?QBOTq@BMAUBMBK@KB]EIKEa@H{@LA?@J'},\n",
       "    'start_location': {'lat': 29.689036, 'lng': -95.468037},\n",
       "    'transit_details': {'arrival_stop': {'location': {'lat': 29.704328,\n",
       "       'lng': -95.40361999999999},\n",
       "      'name': 'Texas Medical Center Transit Center'},\n",
       "     'arrival_time': {'text': '3:48pm',\n",
       "      'time_zone': 'America/Chicago',\n",
       "      'value': 1642024080},\n",
       "     'departure_stop': {'location': {'lat': 29.689036, 'lng': -95.468037},\n",
       "      'name': 'Beechnut St @ S Rice Ave'},\n",
       "     'departure_time': {'text': '3:31pm',\n",
       "      'time_zone': 'America/Chicago',\n",
       "      'value': 1642023066},\n",
       "     'headsign': 'Eastwood TC',\n",
       "     'line': {'agencies': [{'name': 'Metropolitan Transit Authority of Harris County',\n",
       "        'phone': '1 (713) 635-4000',\n",
       "        'url': 'http://www.ridemetro.org/'}],\n",
       "      'color': '#004080',\n",
       "      'name': 'Beechnut',\n",
       "      'short_name': '4',\n",
       "      'text_color': '#ffffff',\n",
       "      'url': 'https://www.ridemetro.org/MetroPDFs/Schedules/BusSchedules/n004-Beechnut.pdf',\n",
       "      'vehicle': {'icon': '//maps.gstatic.com/mapfiles/transit/iw2/6/bus2.png',\n",
       "       'name': 'Bus',\n",
       "       'type': 'BUS'}},\n",
       "     'num_stops': 24,\n",
       "     'trip_short_name': 'BEECHNUT'},\n",
       "    'travel_mode': 'TRANSIT'},\n",
       "   {'distance': {'text': '7.9 mi', 'value': 12693},\n",
       "    'duration': {'text': '34 mins', 'value': 2040},\n",
       "    'end_location': {'lat': 29.803613, 'lng': -95.41008699999999},\n",
       "    'html_instructions': 'Bus towards N Shepherd P&R',\n",
       "    'polyline': {'points': 'ashtDroheQFj@kAh@QBKAKKCQ@O?i@?A?e@j@Kn@KDAp@Mr@KPHDPDVERC\\\\AJCJCL@TCLUp@CN?PDPJJLDhAHCp@Mz@Op@Wp@gAhC?@CFIPEJIPEHELWh@QXINOPSNkAl@OH]PE@MFC@MBS@e@@M?o@A]??|B?vA?^@nG?j@?R?P@b@?~@@rAA`A@n@?h@oA?[?_@?WAsBBQ?Q?eD@uB@S?Y?yAA{@@yC@kC@K?gD?cDB_D@}A?oA@_B@c@?cE@w@@}AAAc@?g@AQCYCg@Iq@E[Gc@Km@Os@Me@IUSu@GUw@oCMc@Uw@cBp@IDkAb@kAf@{@^SHy@ZEBSF_@JKBi@LA@SDWDa@FI@a@F]DWBYBQ@o@DA?M@w@@W@M?K?oA?gA?K?sA@uA@K@iB?s@?iD@yB?S?c@@gB?oCBU@eB@e@?]?eA?S?O?U?aA?i@@A?[?A?Y@k@?]?m@?W?iD@c@@aA@eADcAAQ?aA?S@c@?U@y@Ao@AgB?cA@sA?cA@Q?iD@wA?u@@e@?c@?M?_A@]?y@?y@@Y?K?y@@O?s@?y@?eB@cA?y@@O?K?W?I?c@?E?}ABE?q@?gA?]Aa@G[GSCg@AS@M?Y?a@?m@?_A?c@@S?sC@gA@iA?kD?iB?_@?[?Y?q@@gB?{@?Y@qA?eA?I?uD@i@@_A?Q?O?{@?m@?M?g@@y@@g@@Q?[?{@?OGEAGCEEGCECECGEY[OYEKCECGEQ_AuCAEEIQe@IQCEACGIEGEGGIIIEEOKGEQKMEk@Oo@@M?{@?WIgB?KEC?SAYAU?IA]?SAeA?S?g@AcA@EBIFKFA@CBIHCDGHGXQ@aAJa@Da@DC?}AL]D]DK@KEA?A?I?G?M?MAAAA?C?AAE?CAA?OCC?AAM?WA[FE@E@c@HG@YD_@HeAPKBw@TgABW?C?W?k@@_A@K?[@SBe@Dc@@SBa@?eA@[?M?eA@c@?e@?]?_@@Y?k@?M?qCBg@?Q?M@U?e@?M?qCB]?w@@_@?E@W?e@?mB@gA?k@@]?qB@c@@a@CE@e@@m@?S@kA?cA@aCBM?oC@eA@oA@Y?[?O?a@Bm@?U?o@?e@@I?A?A?y@?M@YAS@O?_@@w@@y@?]?M?YAMAMCOEYIIAa@Kc@Ku@QGACAm@MAAOCIAK?OAM?M?A?I?O?S@M@IBc@Jq@P}@Vg@Jk@Ji@Hc@Be@DE?c@Bs@ByABA?oCBYA}B@I?A?q@@K?E?k@?C?O@u@?S?k@@w@@K?a@?O?[@U?U?U?k@@k@?Y@C?I?S?kC@y@@K?W@[?S?A?W?G?U@S?c@?e@@O?E?[?mCBeA@U?Y?S?U@A?S?aA@_@?e@@Q?S?U?s@?C?W?qB@sB@eBBg@?oBBaGBq@@w@?aB@i@@W@_B@yA@aB@Q?qD@U@gB?eB@eBA_A@?K'},\n",
       "    'start_location': {'lat': 29.704328, 'lng': -95.40361999999999},\n",
       "    'transit_details': {'arrival_stop': {'location': {'lat': 29.803613,\n",
       "       'lng': -95.41008699999999},\n",
       "      'name': 'N Shepherd Dr @ W 20th St'},\n",
       "     'arrival_time': {'text': '4:29pm',\n",
       "      'time_zone': 'America/Chicago',\n",
       "      'value': 1642026540},\n",
       "     'departure_stop': {'location': {'lat': 29.704328,\n",
       "       'lng': -95.40361999999999},\n",
       "      'name': 'Texas Medical Center Transit Center'},\n",
       "     'departure_time': {'text': '3:55pm',\n",
       "      'time_zone': 'America/Chicago',\n",
       "      'value': 1642024500},\n",
       "     'headsign': 'N Shepherd P&R',\n",
       "     'line': {'agencies': [{'name': 'Metropolitan Transit Authority of Harris County',\n",
       "        'phone': '1 (713) 635-4000',\n",
       "        'url': 'http://www.ridemetro.org/'}],\n",
       "      'color': '#004080',\n",
       "      'name': 'Shepherd',\n",
       "      'short_name': '27',\n",
       "      'text_color': '#ffffff',\n",
       "      'url': 'https://www.ridemetro.org/MetroPDFs/Schedules/BusSchedules/n027-Shepherd.pdf',\n",
       "      'vehicle': {'icon': '//maps.gstatic.com/mapfiles/transit/iw2/6/bus2.png',\n",
       "       'name': 'Bus',\n",
       "       'type': 'BUS'}},\n",
       "     'num_stops': 53,\n",
       "     'trip_short_name': 'SHEPHERD'},\n",
       "    'travel_mode': 'TRANSIT'},\n",
       "   {'distance': {'text': '112 ft', 'value': 34},\n",
       "    'duration': {'text': '1 min', 'value': 34},\n",
       "    'end_location': {'lat': 29.803842, 'lng': -95.41002979999999},\n",
       "    'html_instructions': 'Walk to W 20th St @ N Shepherd Dr',\n",
       "    'polyline': {'points': 'q_|tDdxieQ_@@M??Q'},\n",
       "    'start_location': {'lat': 29.8036121, 'lng': -95.410111},\n",
       "    'steps': [{'distance': {'text': '69 ft', 'value': 21},\n",
       "      'duration': {'text': '1 min', 'value': 15},\n",
       "      'end_location': {'lat': 29.8038391, 'lng': -95.4101207},\n",
       "      'html_instructions': 'Head <b>north</b> on <b>N Shepherd Dr</b> toward <b>W 20th St</b>',\n",
       "      'polyline': {'points': 'q_|tDdxieQ_@@M?'},\n",
       "      'start_location': {'lat': 29.8036121, 'lng': -95.410111},\n",
       "      'travel_mode': 'WALKING'},\n",
       "     {'distance': {'text': '43 ft', 'value': 13},\n",
       "      'duration': {'text': '1 min', 'value': 19},\n",
       "      'end_location': {'lat': 29.803842, 'lng': -95.41002979999999},\n",
       "      'html_instructions': 'Turn <b>right</b> onto <b>W 20th St</b>',\n",
       "      'maneuver': 'turn-right',\n",
       "      'polyline': {'points': '_a|tDfxieQ?Q'},\n",
       "      'start_location': {'lat': 29.8038391, 'lng': -95.4101207},\n",
       "      'travel_mode': 'WALKING'}],\n",
       "    'travel_mode': 'WALKING'},\n",
       "   {'distance': {'text': '2.7 mi', 'value': 4367},\n",
       "    'duration': {'text': '10 mins', 'value': 582},\n",
       "    'end_location': {'lat': 29.80163, 'lng': -95.454342},\n",
       "    'html_instructions': 'Bus towards Memorial City',\n",
       "    'polyline': {'points': 'ea|tDvwieQJ?@V?fA@`ABfE?tABtJ?pB@rA?r@?H?|@?jB?@?j@@h@AL?\\\\?J@f@?|B?h@?|@?n@?N?|G?J@tE?d@@dC?p@AL@J?V@P@H?B?D@F@HBH@JDPDLDLDHDJDJHLFHFHLL?@TVTVn@v@NRh@h@NPVX^f@BJBFBFf@v@P`@DZDVBT@F?D@F?H?P@P?X?N?F?j@@pAIpB@f@?V?fA?j@?V@h@AjA?h@@~@?b@@^Af@@d@?X?bA?jA?b@@nC?J?d@Aj@?v@?P@dB?jA?bC?`A?\\\\@dH?`D?dC@fE?jD?T@`F@vB?jD?vC?X?`E@V@zCAb@?fAAX@fB@fA?T@|B?l@A~A?x@?XAzB?`A?dB?l@?P?F?H@^?Z?@?H?@?Z?h@?f@?j@?^?t@@j@BnAAV@|@@fB?bBG?'},\n",
       "    'start_location': {'lat': 29.803869, 'lng': -95.410039},\n",
       "    'transit_details': {'arrival_stop': {'location': {'lat': 29.80163,\n",
       "       'lng': -95.454342},\n",
       "      'name': 'W 18th St @ Northwest Fwy'},\n",
       "     'arrival_time': {'text': '4:48pm',\n",
       "      'time_zone': 'America/Chicago',\n",
       "      'value': 1642027720},\n",
       "     'departure_stop': {'location': {'lat': 29.803869, 'lng': -95.410039},\n",
       "      'name': 'W 20th St @ N Shepherd Dr'},\n",
       "     'departure_time': {'text': '4:38pm',\n",
       "      'time_zone': 'America/Chicago',\n",
       "      'value': 1642027138},\n",
       "     'headsign': 'Memorial City',\n",
       "     'line': {'agencies': [{'name': 'Metropolitan Transit Authority of Harris County',\n",
       "        'phone': '1 (713) 635-4000',\n",
       "        'url': 'http://www.ridemetro.org/'}],\n",
       "      'color': '#004080',\n",
       "      'name': 'Long Point / Cavalcade',\n",
       "      'short_name': '26',\n",
       "      'text_color': '#ffffff',\n",
       "      'url': 'https://www.ridemetro.org/MetroPDFs/Schedules/BusSchedules/n026-Long-Point-Cavalcade.pdf',\n",
       "      'vehicle': {'icon': '//maps.gstatic.com/mapfiles/transit/iw2/6/bus2.png',\n",
       "       'name': 'Bus',\n",
       "       'type': 'BUS'}},\n",
       "     'num_stops': 14,\n",
       "     'trip_short_name': 'LONGPOINT'},\n",
       "    'travel_mode': 'TRANSIT'},\n",
       "   {'distance': {'text': '322 ft', 'value': 98},\n",
       "    'duration': {'text': '1 min', 'value': 77},\n",
       "    'end_location': {'lat': 29.8019199, 'lng': -95.45428179999999},\n",
       "    'html_instructions': 'Walk to 4400 W 18th St, Houston, TX 77092, USA',\n",
       "    'polyline': {'points': 'es{tDrlreQ?z@YEc@E?G@Q@a@'},\n",
       "    'start_location': {'lat': 29.8016264, 'lng': -95.454342},\n",
       "    'steps': [{'distance': {'text': '95 ft', 'value': 29},\n",
       "      'duration': {'text': '1 min', 'value': 22},\n",
       "      'end_location': {'lat': 29.8016252, 'lng': -95.45463819999999},\n",
       "      'html_instructions': 'Head <b>west</b> on <b>W 18th St</b>/<wbr/><b>NW Mall</b>',\n",
       "      'polyline': {'points': 'es{tDrlreQ?z@'},\n",
       "      'start_location': {'lat': 29.8016264, 'lng': -95.454342},\n",
       "      'travel_mode': 'WALKING'},\n",
       "     {'distance': {'text': '131 ft', 'value': 40},\n",
       "      'duration': {'text': '1 min', 'value': 33},\n",
       "      'end_location': {'lat': 29.8019405, 'lng': -95.4545788},\n",
       "      'html_instructions': 'Turn <b>right</b><div style=\"font-size:0.9em\">Restricted usage road</div>',\n",
       "      'maneuver': 'turn-right',\n",
       "      'polyline': {'points': 'es{tDnnreQYEc@E'},\n",
       "      'start_location': {'lat': 29.8016252, 'lng': -95.45463819999999},\n",
       "      'travel_mode': 'WALKING'},\n",
       "     {'distance': {'text': '95 ft', 'value': 29},\n",
       "      'duration': {'text': '1 min', 'value': 22},\n",
       "      'end_location': {'lat': 29.8019199, 'lng': -95.45428179999999},\n",
       "      'html_instructions': 'Turn <b>right</b><div style=\"font-size:0.9em\">Restricted usage road</div><div style=\"font-size:0.9em\">Destination will be on the left</div>',\n",
       "      'maneuver': 'turn-right',\n",
       "      'polyline': {'points': 'cu{tDbnreQ?G@Q@a@'},\n",
       "      'start_location': {'lat': 29.8019405, 'lng': -95.4545788},\n",
       "      'travel_mode': 'WALKING'}],\n",
       "    'travel_mode': 'WALKING'}],\n",
       "  'traffic_speed_entry': [],\n",
       "  'via_waypoint': []}]"
      ]
     },
     "execution_count": 7,
     "metadata": {},
     "output_type": "execute_result"
    }
   ],
   "source": [
    "a['routes'][0]['legs']"
   ]
  },
  {
   "cell_type": "code",
   "execution_count": 8,
   "metadata": {},
   "outputs": [
    {
     "data": {
      "text/plain": [
       "{'arrival_time': {'text': '4:49pm',\n",
       "  'time_zone': 'America/Chicago',\n",
       "  'value': 1642027797},\n",
       " 'departure_time': {'text': '3:27pm',\n",
       "  'time_zone': 'America/Chicago',\n",
       "  'value': 1642022845},\n",
       " 'distance': {'text': '15.3 mi', 'value': 24624},\n",
       " 'duration': {'text': '1 hour 23 mins', 'value': 4952},\n",
       " 'end_address': '4400 W 18th St, Houston, TX 77092, USA',\n",
       " 'end_location': {'lat': 29.8019199, 'lng': -95.45428179999999},\n",
       " 'start_address': '5100 Maple St, Bellaire, TX 77401, USA',\n",
       " 'start_location': {'lat': 29.691229, 'lng': -95.4679906},\n",
       " 'steps': [{'distance': {'text': '0.2 mi', 'value': 272},\n",
       "   'duration': {'text': '4 mins', 'value': 220},\n",
       "   'end_location': {'lat': 29.6890314, 'lng': -95.4680369},\n",
       "   'html_instructions': 'Walk to Beechnut St @ S Rice Ave',\n",
       "   'polyline': {'points': 'eaftD|aueQ?[L?nCCL?r@?jAEZ@J?T@LBB?NDLBN@LB?V'},\n",
       "   'start_location': {'lat': 29.691229, 'lng': -95.4679906},\n",
       "   'steps': [{'distance': {'text': '59 ft', 'value': 18},\n",
       "     'duration': {'text': '1 min', 'value': 13},\n",
       "     'end_location': {'lat': 29.6911585, 'lng': -95.4678465},\n",
       "     'html_instructions': 'Head <b>east</b> on <b>Maple St</b> toward <b>S Rice Ave</b>',\n",
       "     'polyline': {'points': 'eaftD|aueQ?[L?'},\n",
       "     'start_location': {'lat': 29.691229, 'lng': -95.4679906},\n",
       "     'travel_mode': 'WALKING'},\n",
       "    {'distance': {'text': '0.1 mi', 'value': 237},\n",
       "     'duration': {'text': '3 mins', 'value': 185},\n",
       "     'end_location': {'lat': 29.6890327, 'lng': -95.46791549999999},\n",
       "     'html_instructions': 'Turn <b>right</b> onto <b>S Rice Ave</b>',\n",
       "     'maneuver': 'turn-right',\n",
       "     'polyline': {'points': 'w`ftD`aueQnCCL?r@?jAEZ@J?T@LBB?NDLBN@LB'},\n",
       "     'start_location': {'lat': 29.6911585, 'lng': -95.4678465},\n",
       "     'travel_mode': 'WALKING'},\n",
       "    {'distance': {'text': '56 ft', 'value': 17},\n",
       "     'duration': {'text': '1 min', 'value': 22},\n",
       "     'end_location': {'lat': 29.6890314, 'lng': -95.4680369},\n",
       "     'html_instructions': 'Turn <b>right</b> onto <b>Beechnut St</b>',\n",
       "     'maneuver': 'turn-right',\n",
       "     'polyline': {'points': 'msetDnaueQ?V'},\n",
       "     'start_location': {'lat': 29.6890327, 'lng': -95.46791549999999},\n",
       "     'travel_mode': 'WALKING'}],\n",
       "   'travel_mode': 'WALKING'},\n",
       "  {'distance': {'text': '4.4 mi', 'value': 7160},\n",
       "   'duration': {'text': '17 mins', 'value': 1014},\n",
       "   'end_location': {'lat': 29.704328, 'lng': -95.40361999999999},\n",
       "   'html_instructions': 'Bus towards Eastwood TC',\n",
       "   'polyline': {'points': 'osetDfbueQE??c@?cA?aA?i@?W?_@AO?a@?u@?i@A_C?c@?_@?}@A{BAi@?]A_A?_BCaD?c@?u@AeC?uA?{CA{@?cA@q@?_A@s@?g@HkAD{@?WBy@Ao@AyAAgB?UCsE?W?i@Ac@AcDC_D@Q?cAAo@ASAYEs@COEc@Gk@Ku@EWQw@EQEW[qAE]CQEWEe@Ee@Ak@Ae@AU?i@ASAaC?u@?EAwFAE?AA??U?]CY?IAOE[E_@Ke@G[Ka@KYM[KWKSMWMQOSQUQUa@c@AAMOGKQYKQCIKUIWM]Ig@EUAICUCWAYAS?U?a@AgACuAAs@?WB]?o@?m@A_B?cC?a@Ac@?GEk@Ei@OkAMy@I[Og@Uo@KU?CKWWk@MYGQGUGSGWI[Ge@G_@E[Eo@Ak@?Y?E?e@@SBc@?OX}D@K@_@@I?[?g@?ECi@Gk@E_@GYEUSk@CIOc@AAEIO[KQCESYcAuAQWq@{@]a@KKOM_@]a@]u@m@cCoB[WWQk@c@w@m@a@_@OKa@e@W]]g@S]KWAAO_@M_@GUCKCMEQMo@?CGq@ASCWAa@?cA?IBs@H}@@O@AHYx@aEZyAVoAFk@Dg@?M@W?G?MCk@Es@Iy@AEKg@GSGQK[Wm@EKw@kB[q@GIOc@IFEISg@Oc@K_@QYI]Mq@OgAIiAAgA?gAFyCDgAHeB`@}DJ{@n@kFiBuAFKAAKISMe@_@IGMIo@g@i@_@SOyAiAOKMK}AiAGEEEIC_@UQMq@g@g@_@MMaC_BcD_CqCoBcBiAUUADa@YJWtAaDVq@Nq@L{@Bq@}@GKAMEKKEQ?QBOTq@BMAUBMBK@KB]EIKEa@H{@LA?@J'},\n",
       "   'start_location': {'lat': 29.689036, 'lng': -95.468037},\n",
       "   'transit_details': {'arrival_stop': {'location': {'lat': 29.704328,\n",
       "      'lng': -95.40361999999999},\n",
       "     'name': 'Texas Medical Center Transit Center'},\n",
       "    'arrival_time': {'text': '3:48pm',\n",
       "     'time_zone': 'America/Chicago',\n",
       "     'value': 1642024080},\n",
       "    'departure_stop': {'location': {'lat': 29.689036, 'lng': -95.468037},\n",
       "     'name': 'Beechnut St @ S Rice Ave'},\n",
       "    'departure_time': {'text': '3:31pm',\n",
       "     'time_zone': 'America/Chicago',\n",
       "     'value': 1642023066},\n",
       "    'headsign': 'Eastwood TC',\n",
       "    'line': {'agencies': [{'name': 'Metropolitan Transit Authority of Harris County',\n",
       "       'phone': '1 (713) 635-4000',\n",
       "       'url': 'http://www.ridemetro.org/'}],\n",
       "     'color': '#004080',\n",
       "     'name': 'Beechnut',\n",
       "     'short_name': '4',\n",
       "     'text_color': '#ffffff',\n",
       "     'url': 'https://www.ridemetro.org/MetroPDFs/Schedules/BusSchedules/n004-Beechnut.pdf',\n",
       "     'vehicle': {'icon': '//maps.gstatic.com/mapfiles/transit/iw2/6/bus2.png',\n",
       "      'name': 'Bus',\n",
       "      'type': 'BUS'}},\n",
       "    'num_stops': 24,\n",
       "    'trip_short_name': 'BEECHNUT'},\n",
       "   'travel_mode': 'TRANSIT'},\n",
       "  {'distance': {'text': '7.9 mi', 'value': 12693},\n",
       "   'duration': {'text': '34 mins', 'value': 2040},\n",
       "   'end_location': {'lat': 29.803613, 'lng': -95.41008699999999},\n",
       "   'html_instructions': 'Bus towards N Shepherd P&R',\n",
       "   'polyline': {'points': 'ashtDroheQFj@kAh@QBKAKKCQ@O?i@?A?e@j@Kn@KDAp@Mr@KPHDPDVERC\\\\AJCJCL@TCLUp@CN?PDPJJLDhAHCp@Mz@Op@Wp@gAhC?@CFIPEJIPEHELWh@QXINOPSNkAl@OH]PE@MFC@MBS@e@@M?o@A]??|B?vA?^@nG?j@?R?P@b@?~@@rAA`A@n@?h@oA?[?_@?WAsBBQ?Q?eD@uB@S?Y?yAA{@@yC@kC@K?gD?cDB_D@}A?oA@_B@c@?cE@w@@}AAAc@?g@AQCYCg@Iq@E[Gc@Km@Os@Me@IUSu@GUw@oCMc@Uw@cBp@IDkAb@kAf@{@^SHy@ZEBSF_@JKBi@LA@SDWDa@FI@a@F]DWBYBQ@o@DA?M@w@@W@M?K?oA?gA?K?sA@uA@K@iB?s@?iD@yB?S?c@@gB?oCBU@eB@e@?]?eA?S?O?U?aA?i@@A?[?A?Y@k@?]?m@?W?iD@c@@aA@eADcAAQ?aA?S@c@?U@y@Ao@AgB?cA@sA?cA@Q?iD@wA?u@@e@?c@?M?_A@]?y@?y@@Y?K?y@@O?s@?y@?eB@cA?y@@O?K?W?I?c@?E?}ABE?q@?gA?]Aa@G[GSCg@AS@M?Y?a@?m@?_A?c@@S?sC@gA@iA?kD?iB?_@?[?Y?q@@gB?{@?Y@qA?eA?I?uD@i@@_A?Q?O?{@?m@?M?g@@y@@g@@Q?[?{@?OGEAGCEEGCECECGEY[OYEKCECGEQ_AuCAEEIQe@IQCEACGIEGEGGIIIEEOKGEQKMEk@Oo@@M?{@?WIgB?KEC?SAYAU?IA]?SAeA?S?g@AcA@EBIFKFA@CBIHCDGHGXQ@aAJa@Da@DC?}AL]D]DK@KEA?A?I?G?M?MAAAA?C?AAE?CAA?OCC?AAM?WA[FE@E@c@HG@YD_@HeAPKBw@TgABW?C?W?k@@_A@K?[@SBe@Dc@@SBa@?eA@[?M?eA@c@?e@?]?_@@Y?k@?M?qCBg@?Q?M@U?e@?M?qCB]?w@@_@?E@W?e@?mB@gA?k@@]?qB@c@@a@CE@e@@m@?S@kA?cA@aCBM?oC@eA@oA@Y?[?O?a@Bm@?U?o@?e@@I?A?A?y@?M@YAS@O?_@@w@@y@?]?M?YAMAMCOEYIIAa@Kc@Ku@QGACAm@MAAOCIAK?OAM?M?A?I?O?S@M@IBc@Jq@P}@Vg@Jk@Ji@Hc@Be@DE?c@Bs@ByABA?oCBYA}B@I?A?q@@K?E?k@?C?O@u@?S?k@@w@@K?a@?O?[@U?U?U?k@@k@?Y@C?I?S?kC@y@@K?W@[?S?A?W?G?U@S?c@?e@@O?E?[?mCBeA@U?Y?S?U@A?S?aA@_@?e@@Q?S?U?s@?C?W?qB@sB@eBBg@?oBBaGBq@@w@?aB@i@@W@_B@yA@aB@Q?qD@U@gB?eB@eBA_A@?K'},\n",
       "   'start_location': {'lat': 29.704328, 'lng': -95.40361999999999},\n",
       "   'transit_details': {'arrival_stop': {'location': {'lat': 29.803613,\n",
       "      'lng': -95.41008699999999},\n",
       "     'name': 'N Shepherd Dr @ W 20th St'},\n",
       "    'arrival_time': {'text': '4:29pm',\n",
       "     'time_zone': 'America/Chicago',\n",
       "     'value': 1642026540},\n",
       "    'departure_stop': {'location': {'lat': 29.704328,\n",
       "      'lng': -95.40361999999999},\n",
       "     'name': 'Texas Medical Center Transit Center'},\n",
       "    'departure_time': {'text': '3:55pm',\n",
       "     'time_zone': 'America/Chicago',\n",
       "     'value': 1642024500},\n",
       "    'headsign': 'N Shepherd P&R',\n",
       "    'line': {'agencies': [{'name': 'Metropolitan Transit Authority of Harris County',\n",
       "       'phone': '1 (713) 635-4000',\n",
       "       'url': 'http://www.ridemetro.org/'}],\n",
       "     'color': '#004080',\n",
       "     'name': 'Shepherd',\n",
       "     'short_name': '27',\n",
       "     'text_color': '#ffffff',\n",
       "     'url': 'https://www.ridemetro.org/MetroPDFs/Schedules/BusSchedules/n027-Shepherd.pdf',\n",
       "     'vehicle': {'icon': '//maps.gstatic.com/mapfiles/transit/iw2/6/bus2.png',\n",
       "      'name': 'Bus',\n",
       "      'type': 'BUS'}},\n",
       "    'num_stops': 53,\n",
       "    'trip_short_name': 'SHEPHERD'},\n",
       "   'travel_mode': 'TRANSIT'},\n",
       "  {'distance': {'text': '112 ft', 'value': 34},\n",
       "   'duration': {'text': '1 min', 'value': 34},\n",
       "   'end_location': {'lat': 29.803842, 'lng': -95.41002979999999},\n",
       "   'html_instructions': 'Walk to W 20th St @ N Shepherd Dr',\n",
       "   'polyline': {'points': 'q_|tDdxieQ_@@M??Q'},\n",
       "   'start_location': {'lat': 29.8036121, 'lng': -95.410111},\n",
       "   'steps': [{'distance': {'text': '69 ft', 'value': 21},\n",
       "     'duration': {'text': '1 min', 'value': 15},\n",
       "     'end_location': {'lat': 29.8038391, 'lng': -95.4101207},\n",
       "     'html_instructions': 'Head <b>north</b> on <b>N Shepherd Dr</b> toward <b>W 20th St</b>',\n",
       "     'polyline': {'points': 'q_|tDdxieQ_@@M?'},\n",
       "     'start_location': {'lat': 29.8036121, 'lng': -95.410111},\n",
       "     'travel_mode': 'WALKING'},\n",
       "    {'distance': {'text': '43 ft', 'value': 13},\n",
       "     'duration': {'text': '1 min', 'value': 19},\n",
       "     'end_location': {'lat': 29.803842, 'lng': -95.41002979999999},\n",
       "     'html_instructions': 'Turn <b>right</b> onto <b>W 20th St</b>',\n",
       "     'maneuver': 'turn-right',\n",
       "     'polyline': {'points': '_a|tDfxieQ?Q'},\n",
       "     'start_location': {'lat': 29.8038391, 'lng': -95.4101207},\n",
       "     'travel_mode': 'WALKING'}],\n",
       "   'travel_mode': 'WALKING'},\n",
       "  {'distance': {'text': '2.7 mi', 'value': 4367},\n",
       "   'duration': {'text': '10 mins', 'value': 582},\n",
       "   'end_location': {'lat': 29.80163, 'lng': -95.454342},\n",
       "   'html_instructions': 'Bus towards Memorial City',\n",
       "   'polyline': {'points': 'ea|tDvwieQJ?@V?fA@`ABfE?tABtJ?pB@rA?r@?H?|@?jB?@?j@@h@AL?\\\\?J@f@?|B?h@?|@?n@?N?|G?J@tE?d@@dC?p@AL@J?V@P@H?B?D@F@HBH@JDPDLDLDHDJDJHLFHFHLL?@TVTVn@v@NRh@h@NPVX^f@BJBFBFf@v@P`@DZDVBT@F?D@F?H?P@P?X?N?F?j@@pAIpB@f@?V?fA?j@?V@h@AjA?h@@~@?b@@^Af@@d@?X?bA?jA?b@@nC?J?d@Aj@?v@?P@dB?jA?bC?`A?\\\\@dH?`D?dC@fE?jD?T@`F@vB?jD?vC?X?`E@V@zCAb@?fAAX@fB@fA?T@|B?l@A~A?x@?XAzB?`A?dB?l@?P?F?H@^?Z?@?H?@?Z?h@?f@?j@?^?t@@j@BnAAV@|@@fB?bBG?'},\n",
       "   'start_location': {'lat': 29.803869, 'lng': -95.410039},\n",
       "   'transit_details': {'arrival_stop': {'location': {'lat': 29.80163,\n",
       "      'lng': -95.454342},\n",
       "     'name': 'W 18th St @ Northwest Fwy'},\n",
       "    'arrival_time': {'text': '4:48pm',\n",
       "     'time_zone': 'America/Chicago',\n",
       "     'value': 1642027720},\n",
       "    'departure_stop': {'location': {'lat': 29.803869, 'lng': -95.410039},\n",
       "     'name': 'W 20th St @ N Shepherd Dr'},\n",
       "    'departure_time': {'text': '4:38pm',\n",
       "     'time_zone': 'America/Chicago',\n",
       "     'value': 1642027138},\n",
       "    'headsign': 'Memorial City',\n",
       "    'line': {'agencies': [{'name': 'Metropolitan Transit Authority of Harris County',\n",
       "       'phone': '1 (713) 635-4000',\n",
       "       'url': 'http://www.ridemetro.org/'}],\n",
       "     'color': '#004080',\n",
       "     'name': 'Long Point / Cavalcade',\n",
       "     'short_name': '26',\n",
       "     'text_color': '#ffffff',\n",
       "     'url': 'https://www.ridemetro.org/MetroPDFs/Schedules/BusSchedules/n026-Long-Point-Cavalcade.pdf',\n",
       "     'vehicle': {'icon': '//maps.gstatic.com/mapfiles/transit/iw2/6/bus2.png',\n",
       "      'name': 'Bus',\n",
       "      'type': 'BUS'}},\n",
       "    'num_stops': 14,\n",
       "    'trip_short_name': 'LONGPOINT'},\n",
       "   'travel_mode': 'TRANSIT'},\n",
       "  {'distance': {'text': '322 ft', 'value': 98},\n",
       "   'duration': {'text': '1 min', 'value': 77},\n",
       "   'end_location': {'lat': 29.8019199, 'lng': -95.45428179999999},\n",
       "   'html_instructions': 'Walk to 4400 W 18th St, Houston, TX 77092, USA',\n",
       "   'polyline': {'points': 'es{tDrlreQ?z@YEc@E?G@Q@a@'},\n",
       "   'start_location': {'lat': 29.8016264, 'lng': -95.454342},\n",
       "   'steps': [{'distance': {'text': '95 ft', 'value': 29},\n",
       "     'duration': {'text': '1 min', 'value': 22},\n",
       "     'end_location': {'lat': 29.8016252, 'lng': -95.45463819999999},\n",
       "     'html_instructions': 'Head <b>west</b> on <b>W 18th St</b>/<wbr/><b>NW Mall</b>',\n",
       "     'polyline': {'points': 'es{tDrlreQ?z@'},\n",
       "     'start_location': {'lat': 29.8016264, 'lng': -95.454342},\n",
       "     'travel_mode': 'WALKING'},\n",
       "    {'distance': {'text': '131 ft', 'value': 40},\n",
       "     'duration': {'text': '1 min', 'value': 33},\n",
       "     'end_location': {'lat': 29.8019405, 'lng': -95.4545788},\n",
       "     'html_instructions': 'Turn <b>right</b><div style=\"font-size:0.9em\">Restricted usage road</div>',\n",
       "     'maneuver': 'turn-right',\n",
       "     'polyline': {'points': 'es{tDnnreQYEc@E'},\n",
       "     'start_location': {'lat': 29.8016252, 'lng': -95.45463819999999},\n",
       "     'travel_mode': 'WALKING'},\n",
       "    {'distance': {'text': '95 ft', 'value': 29},\n",
       "     'duration': {'text': '1 min', 'value': 22},\n",
       "     'end_location': {'lat': 29.8019199, 'lng': -95.45428179999999},\n",
       "     'html_instructions': 'Turn <b>right</b><div style=\"font-size:0.9em\">Restricted usage road</div><div style=\"font-size:0.9em\">Destination will be on the left</div>',\n",
       "     'maneuver': 'turn-right',\n",
       "     'polyline': {'points': 'cu{tDbnreQ?G@Q@a@'},\n",
       "     'start_location': {'lat': 29.8019405, 'lng': -95.4545788},\n",
       "     'travel_mode': 'WALKING'}],\n",
       "   'travel_mode': 'WALKING'}],\n",
       " 'traffic_speed_entry': [],\n",
       " 'via_waypoint': []}"
      ]
     },
     "execution_count": 8,
     "metadata": {},
     "output_type": "execute_result"
    }
   ],
   "source": [
    "a['routes'][0]['legs'][0]"
   ]
  },
  {
   "cell_type": "code",
   "execution_count": 9,
   "metadata": {},
   "outputs": [
    {
     "data": {
      "text/plain": [
       "dict_keys(['arrival_time', 'departure_time', 'distance', 'duration', 'end_address', 'end_location', 'start_address', 'start_location', 'steps', 'traffic_speed_entry', 'via_waypoint'])"
      ]
     },
     "execution_count": 9,
     "metadata": {},
     "output_type": "execute_result"
    }
   ],
   "source": [
    "a['routes'][0]['legs'][0].keys()"
   ]
  },
  {
   "cell_type": "code",
   "execution_count": 10,
   "metadata": {},
   "outputs": [
    {
     "data": {
      "text/plain": [
       "[{'distance': {'text': '0.2 mi', 'value': 272},\n",
       "  'duration': {'text': '4 mins', 'value': 220},\n",
       "  'end_location': {'lat': 29.6890314, 'lng': -95.4680369},\n",
       "  'html_instructions': 'Walk to Beechnut St @ S Rice Ave',\n",
       "  'polyline': {'points': 'eaftD|aueQ?[L?nCCL?r@?jAEZ@J?T@LBB?NDLBN@LB?V'},\n",
       "  'start_location': {'lat': 29.691229, 'lng': -95.4679906},\n",
       "  'steps': [{'distance': {'text': '59 ft', 'value': 18},\n",
       "    'duration': {'text': '1 min', 'value': 13},\n",
       "    'end_location': {'lat': 29.6911585, 'lng': -95.4678465},\n",
       "    'html_instructions': 'Head <b>east</b> on <b>Maple St</b> toward <b>S Rice Ave</b>',\n",
       "    'polyline': {'points': 'eaftD|aueQ?[L?'},\n",
       "    'start_location': {'lat': 29.691229, 'lng': -95.4679906},\n",
       "    'travel_mode': 'WALKING'},\n",
       "   {'distance': {'text': '0.1 mi', 'value': 237},\n",
       "    'duration': {'text': '3 mins', 'value': 185},\n",
       "    'end_location': {'lat': 29.6890327, 'lng': -95.46791549999999},\n",
       "    'html_instructions': 'Turn <b>right</b> onto <b>S Rice Ave</b>',\n",
       "    'maneuver': 'turn-right',\n",
       "    'polyline': {'points': 'w`ftD`aueQnCCL?r@?jAEZ@J?T@LBB?NDLBN@LB'},\n",
       "    'start_location': {'lat': 29.6911585, 'lng': -95.4678465},\n",
       "    'travel_mode': 'WALKING'},\n",
       "   {'distance': {'text': '56 ft', 'value': 17},\n",
       "    'duration': {'text': '1 min', 'value': 22},\n",
       "    'end_location': {'lat': 29.6890314, 'lng': -95.4680369},\n",
       "    'html_instructions': 'Turn <b>right</b> onto <b>Beechnut St</b>',\n",
       "    'maneuver': 'turn-right',\n",
       "    'polyline': {'points': 'msetDnaueQ?V'},\n",
       "    'start_location': {'lat': 29.6890327, 'lng': -95.46791549999999},\n",
       "    'travel_mode': 'WALKING'}],\n",
       "  'travel_mode': 'WALKING'},\n",
       " {'distance': {'text': '4.4 mi', 'value': 7160},\n",
       "  'duration': {'text': '17 mins', 'value': 1014},\n",
       "  'end_location': {'lat': 29.704328, 'lng': -95.40361999999999},\n",
       "  'html_instructions': 'Bus towards Eastwood TC',\n",
       "  'polyline': {'points': 'osetDfbueQE??c@?cA?aA?i@?W?_@AO?a@?u@?i@A_C?c@?_@?}@A{BAi@?]A_A?_BCaD?c@?u@AeC?uA?{CA{@?cA@q@?_A@s@?g@HkAD{@?WBy@Ao@AyAAgB?UCsE?W?i@Ac@AcDC_D@Q?cAAo@ASAYEs@COEc@Gk@Ku@EWQw@EQEW[qAE]CQEWEe@Ee@Ak@Ae@AU?i@ASAaC?u@?EAwFAE?AA??U?]CY?IAOE[E_@Ke@G[Ka@KYM[KWKSMWMQOSQUQUa@c@AAMOGKQYKQCIKUIWM]Ig@EUAICUCWAYAS?U?a@AgACuAAs@?WB]?o@?m@A_B?cC?a@Ac@?GEk@Ei@OkAMy@I[Og@Uo@KU?CKWWk@MYGQGUGSGWI[Ge@G_@E[Eo@Ak@?Y?E?e@@SBc@?OX}D@K@_@@I?[?g@?ECi@Gk@E_@GYEUSk@CIOc@AAEIO[KQCESYcAuAQWq@{@]a@KKOM_@]a@]u@m@cCoB[WWQk@c@w@m@a@_@OKa@e@W]]g@S]KWAAO_@M_@GUCKCMEQMo@?CGq@ASCWAa@?cA?IBs@H}@@O@AHYx@aEZyAVoAFk@Dg@?M@W?G?MCk@Es@Iy@AEKg@GSGQK[Wm@EKw@kB[q@GIOc@IFEISg@Oc@K_@QYI]Mq@OgAIiAAgA?gAFyCDgAHeB`@}DJ{@n@kFiBuAFKAAKISMe@_@IGMIo@g@i@_@SOyAiAOKMK}AiAGEEEIC_@UQMq@g@g@_@MMaC_BcD_CqCoBcBiAUUADa@YJWtAaDVq@Nq@L{@Bq@}@GKAMEKKEQ?QBOTq@BMAUBMBK@KB]EIKEa@H{@LA?@J'},\n",
       "  'start_location': {'lat': 29.689036, 'lng': -95.468037},\n",
       "  'transit_details': {'arrival_stop': {'location': {'lat': 29.704328,\n",
       "     'lng': -95.40361999999999},\n",
       "    'name': 'Texas Medical Center Transit Center'},\n",
       "   'arrival_time': {'text': '3:48pm',\n",
       "    'time_zone': 'America/Chicago',\n",
       "    'value': 1642024080},\n",
       "   'departure_stop': {'location': {'lat': 29.689036, 'lng': -95.468037},\n",
       "    'name': 'Beechnut St @ S Rice Ave'},\n",
       "   'departure_time': {'text': '3:31pm',\n",
       "    'time_zone': 'America/Chicago',\n",
       "    'value': 1642023066},\n",
       "   'headsign': 'Eastwood TC',\n",
       "   'line': {'agencies': [{'name': 'Metropolitan Transit Authority of Harris County',\n",
       "      'phone': '1 (713) 635-4000',\n",
       "      'url': 'http://www.ridemetro.org/'}],\n",
       "    'color': '#004080',\n",
       "    'name': 'Beechnut',\n",
       "    'short_name': '4',\n",
       "    'text_color': '#ffffff',\n",
       "    'url': 'https://www.ridemetro.org/MetroPDFs/Schedules/BusSchedules/n004-Beechnut.pdf',\n",
       "    'vehicle': {'icon': '//maps.gstatic.com/mapfiles/transit/iw2/6/bus2.png',\n",
       "     'name': 'Bus',\n",
       "     'type': 'BUS'}},\n",
       "   'num_stops': 24,\n",
       "   'trip_short_name': 'BEECHNUT'},\n",
       "  'travel_mode': 'TRANSIT'},\n",
       " {'distance': {'text': '7.9 mi', 'value': 12693},\n",
       "  'duration': {'text': '34 mins', 'value': 2040},\n",
       "  'end_location': {'lat': 29.803613, 'lng': -95.41008699999999},\n",
       "  'html_instructions': 'Bus towards N Shepherd P&R',\n",
       "  'polyline': {'points': 'ashtDroheQFj@kAh@QBKAKKCQ@O?i@?A?e@j@Kn@KDAp@Mr@KPHDPDVERC\\\\AJCJCL@TCLUp@CN?PDPJJLDhAHCp@Mz@Op@Wp@gAhC?@CFIPEJIPEHELWh@QXINOPSNkAl@OH]PE@MFC@MBS@e@@M?o@A]??|B?vA?^@nG?j@?R?P@b@?~@@rAA`A@n@?h@oA?[?_@?WAsBBQ?Q?eD@uB@S?Y?yAA{@@yC@kC@K?gD?cDB_D@}A?oA@_B@c@?cE@w@@}AAAc@?g@AQCYCg@Iq@E[Gc@Km@Os@Me@IUSu@GUw@oCMc@Uw@cBp@IDkAb@kAf@{@^SHy@ZEBSF_@JKBi@LA@SDWDa@FI@a@F]DWBYBQ@o@DA?M@w@@W@M?K?oA?gA?K?sA@uA@K@iB?s@?iD@yB?S?c@@gB?oCBU@eB@e@?]?eA?S?O?U?aA?i@@A?[?A?Y@k@?]?m@?W?iD@c@@aA@eADcAAQ?aA?S@c@?U@y@Ao@AgB?cA@sA?cA@Q?iD@wA?u@@e@?c@?M?_A@]?y@?y@@Y?K?y@@O?s@?y@?eB@cA?y@@O?K?W?I?c@?E?}ABE?q@?gA?]Aa@G[GSCg@AS@M?Y?a@?m@?_A?c@@S?sC@gA@iA?kD?iB?_@?[?Y?q@@gB?{@?Y@qA?eA?I?uD@i@@_A?Q?O?{@?m@?M?g@@y@@g@@Q?[?{@?OGEAGCEEGCECECGEY[OYEKCECGEQ_AuCAEEIQe@IQCEACGIEGEGGIIIEEOKGEQKMEk@Oo@@M?{@?WIgB?KEC?SAYAU?IA]?SAeA?S?g@AcA@EBIFKFA@CBIHCDGHGXQ@aAJa@Da@DC?}AL]D]DK@KEA?A?I?G?M?MAAAA?C?AAE?CAA?OCC?AAM?WA[FE@E@c@HG@YD_@HeAPKBw@TgABW?C?W?k@@_A@K?[@SBe@Dc@@SBa@?eA@[?M?eA@c@?e@?]?_@@Y?k@?M?qCBg@?Q?M@U?e@?M?qCB]?w@@_@?E@W?e@?mB@gA?k@@]?qB@c@@a@CE@e@@m@?S@kA?cA@aCBM?oC@eA@oA@Y?[?O?a@Bm@?U?o@?e@@I?A?A?y@?M@YAS@O?_@@w@@y@?]?M?YAMAMCOEYIIAa@Kc@Ku@QGACAm@MAAOCIAK?OAM?M?A?I?O?S@M@IBc@Jq@P}@Vg@Jk@Ji@Hc@Be@DE?c@Bs@ByABA?oCBYA}B@I?A?q@@K?E?k@?C?O@u@?S?k@@w@@K?a@?O?[@U?U?U?k@@k@?Y@C?I?S?kC@y@@K?W@[?S?A?W?G?U@S?c@?e@@O?E?[?mCBeA@U?Y?S?U@A?S?aA@_@?e@@Q?S?U?s@?C?W?qB@sB@eBBg@?oBBaGBq@@w@?aB@i@@W@_B@yA@aB@Q?qD@U@gB?eB@eBA_A@?K'},\n",
       "  'start_location': {'lat': 29.704328, 'lng': -95.40361999999999},\n",
       "  'transit_details': {'arrival_stop': {'location': {'lat': 29.803613,\n",
       "     'lng': -95.41008699999999},\n",
       "    'name': 'N Shepherd Dr @ W 20th St'},\n",
       "   'arrival_time': {'text': '4:29pm',\n",
       "    'time_zone': 'America/Chicago',\n",
       "    'value': 1642026540},\n",
       "   'departure_stop': {'location': {'lat': 29.704328,\n",
       "     'lng': -95.40361999999999},\n",
       "    'name': 'Texas Medical Center Transit Center'},\n",
       "   'departure_time': {'text': '3:55pm',\n",
       "    'time_zone': 'America/Chicago',\n",
       "    'value': 1642024500},\n",
       "   'headsign': 'N Shepherd P&R',\n",
       "   'line': {'agencies': [{'name': 'Metropolitan Transit Authority of Harris County',\n",
       "      'phone': '1 (713) 635-4000',\n",
       "      'url': 'http://www.ridemetro.org/'}],\n",
       "    'color': '#004080',\n",
       "    'name': 'Shepherd',\n",
       "    'short_name': '27',\n",
       "    'text_color': '#ffffff',\n",
       "    'url': 'https://www.ridemetro.org/MetroPDFs/Schedules/BusSchedules/n027-Shepherd.pdf',\n",
       "    'vehicle': {'icon': '//maps.gstatic.com/mapfiles/transit/iw2/6/bus2.png',\n",
       "     'name': 'Bus',\n",
       "     'type': 'BUS'}},\n",
       "   'num_stops': 53,\n",
       "   'trip_short_name': 'SHEPHERD'},\n",
       "  'travel_mode': 'TRANSIT'},\n",
       " {'distance': {'text': '112 ft', 'value': 34},\n",
       "  'duration': {'text': '1 min', 'value': 34},\n",
       "  'end_location': {'lat': 29.803842, 'lng': -95.41002979999999},\n",
       "  'html_instructions': 'Walk to W 20th St @ N Shepherd Dr',\n",
       "  'polyline': {'points': 'q_|tDdxieQ_@@M??Q'},\n",
       "  'start_location': {'lat': 29.8036121, 'lng': -95.410111},\n",
       "  'steps': [{'distance': {'text': '69 ft', 'value': 21},\n",
       "    'duration': {'text': '1 min', 'value': 15},\n",
       "    'end_location': {'lat': 29.8038391, 'lng': -95.4101207},\n",
       "    'html_instructions': 'Head <b>north</b> on <b>N Shepherd Dr</b> toward <b>W 20th St</b>',\n",
       "    'polyline': {'points': 'q_|tDdxieQ_@@M?'},\n",
       "    'start_location': {'lat': 29.8036121, 'lng': -95.410111},\n",
       "    'travel_mode': 'WALKING'},\n",
       "   {'distance': {'text': '43 ft', 'value': 13},\n",
       "    'duration': {'text': '1 min', 'value': 19},\n",
       "    'end_location': {'lat': 29.803842, 'lng': -95.41002979999999},\n",
       "    'html_instructions': 'Turn <b>right</b> onto <b>W 20th St</b>',\n",
       "    'maneuver': 'turn-right',\n",
       "    'polyline': {'points': '_a|tDfxieQ?Q'},\n",
       "    'start_location': {'lat': 29.8038391, 'lng': -95.4101207},\n",
       "    'travel_mode': 'WALKING'}],\n",
       "  'travel_mode': 'WALKING'},\n",
       " {'distance': {'text': '2.7 mi', 'value': 4367},\n",
       "  'duration': {'text': '10 mins', 'value': 582},\n",
       "  'end_location': {'lat': 29.80163, 'lng': -95.454342},\n",
       "  'html_instructions': 'Bus towards Memorial City',\n",
       "  'polyline': {'points': 'ea|tDvwieQJ?@V?fA@`ABfE?tABtJ?pB@rA?r@?H?|@?jB?@?j@@h@AL?\\\\?J@f@?|B?h@?|@?n@?N?|G?J@tE?d@@dC?p@AL@J?V@P@H?B?D@F@HBH@JDPDLDLDHDJDJHLFHFHLL?@TVTVn@v@NRh@h@NPVX^f@BJBFBFf@v@P`@DZDVBT@F?D@F?H?P@P?X?N?F?j@@pAIpB@f@?V?fA?j@?V@h@AjA?h@@~@?b@@^Af@@d@?X?bA?jA?b@@nC?J?d@Aj@?v@?P@dB?jA?bC?`A?\\\\@dH?`D?dC@fE?jD?T@`F@vB?jD?vC?X?`E@V@zCAb@?fAAX@fB@fA?T@|B?l@A~A?x@?XAzB?`A?dB?l@?P?F?H@^?Z?@?H?@?Z?h@?f@?j@?^?t@@j@BnAAV@|@@fB?bBG?'},\n",
       "  'start_location': {'lat': 29.803869, 'lng': -95.410039},\n",
       "  'transit_details': {'arrival_stop': {'location': {'lat': 29.80163,\n",
       "     'lng': -95.454342},\n",
       "    'name': 'W 18th St @ Northwest Fwy'},\n",
       "   'arrival_time': {'text': '4:48pm',\n",
       "    'time_zone': 'America/Chicago',\n",
       "    'value': 1642027720},\n",
       "   'departure_stop': {'location': {'lat': 29.803869, 'lng': -95.410039},\n",
       "    'name': 'W 20th St @ N Shepherd Dr'},\n",
       "   'departure_time': {'text': '4:38pm',\n",
       "    'time_zone': 'America/Chicago',\n",
       "    'value': 1642027138},\n",
       "   'headsign': 'Memorial City',\n",
       "   'line': {'agencies': [{'name': 'Metropolitan Transit Authority of Harris County',\n",
       "      'phone': '1 (713) 635-4000',\n",
       "      'url': 'http://www.ridemetro.org/'}],\n",
       "    'color': '#004080',\n",
       "    'name': 'Long Point / Cavalcade',\n",
       "    'short_name': '26',\n",
       "    'text_color': '#ffffff',\n",
       "    'url': 'https://www.ridemetro.org/MetroPDFs/Schedules/BusSchedules/n026-Long-Point-Cavalcade.pdf',\n",
       "    'vehicle': {'icon': '//maps.gstatic.com/mapfiles/transit/iw2/6/bus2.png',\n",
       "     'name': 'Bus',\n",
       "     'type': 'BUS'}},\n",
       "   'num_stops': 14,\n",
       "   'trip_short_name': 'LONGPOINT'},\n",
       "  'travel_mode': 'TRANSIT'},\n",
       " {'distance': {'text': '322 ft', 'value': 98},\n",
       "  'duration': {'text': '1 min', 'value': 77},\n",
       "  'end_location': {'lat': 29.8019199, 'lng': -95.45428179999999},\n",
       "  'html_instructions': 'Walk to 4400 W 18th St, Houston, TX 77092, USA',\n",
       "  'polyline': {'points': 'es{tDrlreQ?z@YEc@E?G@Q@a@'},\n",
       "  'start_location': {'lat': 29.8016264, 'lng': -95.454342},\n",
       "  'steps': [{'distance': {'text': '95 ft', 'value': 29},\n",
       "    'duration': {'text': '1 min', 'value': 22},\n",
       "    'end_location': {'lat': 29.8016252, 'lng': -95.45463819999999},\n",
       "    'html_instructions': 'Head <b>west</b> on <b>W 18th St</b>/<wbr/><b>NW Mall</b>',\n",
       "    'polyline': {'points': 'es{tDrlreQ?z@'},\n",
       "    'start_location': {'lat': 29.8016264, 'lng': -95.454342},\n",
       "    'travel_mode': 'WALKING'},\n",
       "   {'distance': {'text': '131 ft', 'value': 40},\n",
       "    'duration': {'text': '1 min', 'value': 33},\n",
       "    'end_location': {'lat': 29.8019405, 'lng': -95.4545788},\n",
       "    'html_instructions': 'Turn <b>right</b><div style=\"font-size:0.9em\">Restricted usage road</div>',\n",
       "    'maneuver': 'turn-right',\n",
       "    'polyline': {'points': 'es{tDnnreQYEc@E'},\n",
       "    'start_location': {'lat': 29.8016252, 'lng': -95.45463819999999},\n",
       "    'travel_mode': 'WALKING'},\n",
       "   {'distance': {'text': '95 ft', 'value': 29},\n",
       "    'duration': {'text': '1 min', 'value': 22},\n",
       "    'end_location': {'lat': 29.8019199, 'lng': -95.45428179999999},\n",
       "    'html_instructions': 'Turn <b>right</b><div style=\"font-size:0.9em\">Restricted usage road</div><div style=\"font-size:0.9em\">Destination will be on the left</div>',\n",
       "    'maneuver': 'turn-right',\n",
       "    'polyline': {'points': 'cu{tDbnreQ?G@Q@a@'},\n",
       "    'start_location': {'lat': 29.8019405, 'lng': -95.4545788},\n",
       "    'travel_mode': 'WALKING'}],\n",
       "  'travel_mode': 'WALKING'}]"
      ]
     },
     "execution_count": 10,
     "metadata": {},
     "output_type": "execute_result"
    }
   ],
   "source": [
    "a['routes'][0]['legs'][0]['steps']"
   ]
  },
  {
   "cell_type": "code",
   "execution_count": 11,
   "metadata": {},
   "outputs": [
    {
     "data": {
      "text/plain": [
       "list"
      ]
     },
     "execution_count": 11,
     "metadata": {},
     "output_type": "execute_result"
    }
   ],
   "source": [
    "type(a['routes'][0]['legs'][0]['steps'])"
   ]
  },
  {
   "cell_type": "code",
   "execution_count": 12,
   "metadata": {},
   "outputs": [
    {
     "data": {
      "text/plain": [
       "6"
      ]
     },
     "execution_count": 12,
     "metadata": {},
     "output_type": "execute_result"
    }
   ],
   "source": [
    "len(a['routes'][0]['legs'][0]['steps'])"
   ]
  },
  {
   "cell_type": "code",
   "execution_count": 13,
   "metadata": {},
   "outputs": [
    {
     "data": {
      "text/plain": [
       "{'distance': {'text': '0.2 mi', 'value': 272},\n",
       " 'duration': {'text': '4 mins', 'value': 220},\n",
       " 'end_location': {'lat': 29.6890314, 'lng': -95.4680369},\n",
       " 'html_instructions': 'Walk to Beechnut St @ S Rice Ave',\n",
       " 'polyline': {'points': 'eaftD|aueQ?[L?nCCL?r@?jAEZ@J?T@LBB?NDLBN@LB?V'},\n",
       " 'start_location': {'lat': 29.691229, 'lng': -95.4679906},\n",
       " 'steps': [{'distance': {'text': '59 ft', 'value': 18},\n",
       "   'duration': {'text': '1 min', 'value': 13},\n",
       "   'end_location': {'lat': 29.6911585, 'lng': -95.4678465},\n",
       "   'html_instructions': 'Head <b>east</b> on <b>Maple St</b> toward <b>S Rice Ave</b>',\n",
       "   'polyline': {'points': 'eaftD|aueQ?[L?'},\n",
       "   'start_location': {'lat': 29.691229, 'lng': -95.4679906},\n",
       "   'travel_mode': 'WALKING'},\n",
       "  {'distance': {'text': '0.1 mi', 'value': 237},\n",
       "   'duration': {'text': '3 mins', 'value': 185},\n",
       "   'end_location': {'lat': 29.6890327, 'lng': -95.46791549999999},\n",
       "   'html_instructions': 'Turn <b>right</b> onto <b>S Rice Ave</b>',\n",
       "   'maneuver': 'turn-right',\n",
       "   'polyline': {'points': 'w`ftD`aueQnCCL?r@?jAEZ@J?T@LBB?NDLBN@LB'},\n",
       "   'start_location': {'lat': 29.6911585, 'lng': -95.4678465},\n",
       "   'travel_mode': 'WALKING'},\n",
       "  {'distance': {'text': '56 ft', 'value': 17},\n",
       "   'duration': {'text': '1 min', 'value': 22},\n",
       "   'end_location': {'lat': 29.6890314, 'lng': -95.4680369},\n",
       "   'html_instructions': 'Turn <b>right</b> onto <b>Beechnut St</b>',\n",
       "   'maneuver': 'turn-right',\n",
       "   'polyline': {'points': 'msetDnaueQ?V'},\n",
       "   'start_location': {'lat': 29.6890327, 'lng': -95.46791549999999},\n",
       "   'travel_mode': 'WALKING'}],\n",
       " 'travel_mode': 'WALKING'}"
      ]
     },
     "execution_count": 13,
     "metadata": {},
     "output_type": "execute_result"
    }
   ],
   "source": [
    "a['routes'][0]['legs'][0]['steps'][0]"
   ]
  },
  {
   "cell_type": "code",
   "execution_count": 14,
   "metadata": {},
   "outputs": [
    {
     "data": {
      "text/plain": [
       "dict_keys(['distance', 'duration', 'end_location', 'html_instructions', 'polyline', 'start_location', 'steps', 'travel_mode'])"
      ]
     },
     "execution_count": 14,
     "metadata": {},
     "output_type": "execute_result"
    }
   ],
   "source": [
    "a['routes'][0]['legs'][0]['steps'][0].keys()"
   ]
  },
  {
   "cell_type": "code",
   "execution_count": 15,
   "metadata": {},
   "outputs": [
    {
     "data": {
      "text/plain": [
       "'WALKING'"
      ]
     },
     "execution_count": 15,
     "metadata": {},
     "output_type": "execute_result"
    }
   ],
   "source": [
    "a['routes'][0]['legs'][0]['steps'][0]['travel_mode']"
   ]
  },
  {
   "cell_type": "code",
   "execution_count": 16,
   "metadata": {},
   "outputs": [
    {
     "data": {
      "text/plain": [
       "[{'distance': {'text': '59 ft', 'value': 18},\n",
       "  'duration': {'text': '1 min', 'value': 13},\n",
       "  'end_location': {'lat': 29.6911585, 'lng': -95.4678465},\n",
       "  'html_instructions': 'Head <b>east</b> on <b>Maple St</b> toward <b>S Rice Ave</b>',\n",
       "  'polyline': {'points': 'eaftD|aueQ?[L?'},\n",
       "  'start_location': {'lat': 29.691229, 'lng': -95.4679906},\n",
       "  'travel_mode': 'WALKING'},\n",
       " {'distance': {'text': '0.1 mi', 'value': 237},\n",
       "  'duration': {'text': '3 mins', 'value': 185},\n",
       "  'end_location': {'lat': 29.6890327, 'lng': -95.46791549999999},\n",
       "  'html_instructions': 'Turn <b>right</b> onto <b>S Rice Ave</b>',\n",
       "  'maneuver': 'turn-right',\n",
       "  'polyline': {'points': 'w`ftD`aueQnCCL?r@?jAEZ@J?T@LBB?NDLBN@LB'},\n",
       "  'start_location': {'lat': 29.6911585, 'lng': -95.4678465},\n",
       "  'travel_mode': 'WALKING'},\n",
       " {'distance': {'text': '56 ft', 'value': 17},\n",
       "  'duration': {'text': '1 min', 'value': 22},\n",
       "  'end_location': {'lat': 29.6890314, 'lng': -95.4680369},\n",
       "  'html_instructions': 'Turn <b>right</b> onto <b>Beechnut St</b>',\n",
       "  'maneuver': 'turn-right',\n",
       "  'polyline': {'points': 'msetDnaueQ?V'},\n",
       "  'start_location': {'lat': 29.6890327, 'lng': -95.46791549999999},\n",
       "  'travel_mode': 'WALKING'}]"
      ]
     },
     "execution_count": 16,
     "metadata": {},
     "output_type": "execute_result"
    }
   ],
   "source": [
    "a['routes'][0]['legs'][0]['steps'][0]['steps']"
   ]
  },
  {
   "cell_type": "code",
   "execution_count": 17,
   "metadata": {},
   "outputs": [
    {
     "data": {
      "text/plain": [
       "3"
      ]
     },
     "execution_count": 17,
     "metadata": {},
     "output_type": "execute_result"
    }
   ],
   "source": [
    "len(a['routes'][0]['legs'][0]['steps'][0]['steps'])"
   ]
  },
  {
   "cell_type": "code",
   "execution_count": 18,
   "metadata": {},
   "outputs": [
    {
     "data": {
      "text/plain": [
       "{'distance': {'text': '56 ft', 'value': 17},\n",
       " 'duration': {'text': '1 min', 'value': 22},\n",
       " 'end_location': {'lat': 29.6890314, 'lng': -95.4680369},\n",
       " 'html_instructions': 'Turn <b>right</b> onto <b>Beechnut St</b>',\n",
       " 'maneuver': 'turn-right',\n",
       " 'polyline': {'points': 'msetDnaueQ?V'},\n",
       " 'start_location': {'lat': 29.6890327, 'lng': -95.46791549999999},\n",
       " 'travel_mode': 'WALKING'}"
      ]
     },
     "execution_count": 18,
     "metadata": {},
     "output_type": "execute_result"
    }
   ],
   "source": [
    "a['routes'][0]['legs'][0]['steps'][0]['steps'][2]"
   ]
  },
  {
   "cell_type": "markdown",
   "metadata": {},
   "source": [
    "## Figuring out the relevant information\n",
    "\n",
    "Clearly there is a TON of information here. Let's write out specifically what we want. \n",
    "\n",
    "The file we have is for arrivals at Austin High School\n",
    "\n",
    "### 1) What is the latest you can leave to get to the board meeting on time? "
   ]
  },
  {
   "cell_type": "code",
   "execution_count": 19,
   "metadata": {},
   "outputs": [
    {
     "name": "stdout",
     "output_type": "stream",
     "text": [
      "3:27pm\n",
      "1 hour 23 mins\n",
      "3:23pm\n",
      "1 hour 28 mins\n",
      "3:23pm\n",
      "1 hour 12 mins\n",
      "3:27pm\n",
      "1 hour 28 mins\n"
     ]
    }
   ],
   "source": [
    "for i in range(0, len(a['routes'])):\n",
    "\n",
    "    print(a['routes'][i]['legs'][0]['departure_time']['text'])\n",
    "    print(a['routes'][i]['legs'][0]['duration']['text'])"
   ]
  },
  {
   "cell_type": "markdown",
   "metadata": {},
   "source": [
    "###  2) What time will you get the board meeting if you leave as soon as school ends? "
   ]
  },
  {
   "cell_type": "code",
   "execution_count": 20,
   "metadata": {},
   "outputs": [],
   "source": [
    "b_str = json_loc + \"/'101912002_BELLAIREHS_leav.json\"\n",
    "\n",
    "f = open(b_str)\n",
    "\n",
    "b = json.load(f)"
   ]
  },
  {
   "cell_type": "code",
   "execution_count": 31,
   "metadata": {},
   "outputs": [
    {
     "name": "stdout",
     "output_type": "stream",
     "text": [
      "1642030584\n",
      "1 hour 12 mins\n",
      "1642030497\n",
      "1 hour 20 mins\n",
      "1642030535\n",
      "1 hour 11 mins\n",
      "1642031375\n",
      "1 hour 16 mins\n"
     ]
    }
   ],
   "source": [
    "for i in range(0, len(b['routes'])):\n",
    "\n",
    "    print(b['routes'][i]['legs'][0]['arrival_time']['value'])\n",
    "    print(b['routes'][i]['legs'][0]['duration']['text'])"
   ]
  },
  {
   "cell_type": "markdown",
   "metadata": {},
   "source": [
    "### 3) How long is the shortest ride? "
   ]
  },
  {
   "cell_type": "code",
   "execution_count": 30,
   "metadata": {},
   "outputs": [
    {
     "name": "stdout",
     "output_type": "stream",
     "text": [
      "4259\n",
      "['1 hour 12 mins', '1 hour 20 mins', '1 hour 11 mins', '1 hour 16 mins']\n"
     ]
    }
   ],
   "source": [
    "print(min([b['routes'][i]['legs'][0]['duration']['value'] for i in range(0,4)]))\n",
    "print([b['routes'][i]['legs'][0]['duration']['text'] for i in range(0,4)])"
   ]
  },
  {
   "cell_type": "markdown",
   "metadata": {},
   "source": [
    "## DASK TIME!!!\n",
    "\n",
    "We'll try using a Dask Bag here to parallelize things"
   ]
  },
  {
   "cell_type": "code",
   "execution_count": 173,
   "metadata": {},
   "outputs": [
    {
     "name": "stdout",
     "output_type": "stream",
     "text": [
      "271\n"
     ]
    }
   ],
   "source": [
    "# What is the latest time you can leave to arrive at HMW on time? \n",
    "\n",
    "filename = json_loc + \"*_arr.json\"\n",
    "arr = db.read_text(filename).map(json.loads)\n",
    "print(arr.count().compute())"
   ]
  },
  {
   "cell_type": "code",
   "execution_count": 228,
   "metadata": {},
   "outputs": [],
   "source": [
    "\n",
    "def latest_departure(temp_file, feature):\n",
    "    length = len(temp_file['routes'])\n",
    "\n",
    "    if length == 0: \n",
    "        return 0\n",
    "\n",
    "    # make sure each of the routes actually has a departure time (aka if it's not walking directions) \n",
    "    dt_bool = [feature in temp_file['routes'][i]['legs'][0].keys() for i in range(0,length)]\n",
    "    indices = list(compress(list(range(0, length)), dt_bool))\n",
    "\n",
    "    time = max([temp_file['routes'][i]['legs'][0][feature]['value'] for i in indices])\n",
    "\n",
    "    return time"
   ]
  },
  {
   "cell_type": "code",
   "execution_count": 233,
   "metadata": {},
   "outputs": [
    {
     "name": "stdout",
     "output_type": "stream",
     "text": [
      "['Wednesday, January 12, 2022 03:33:49', 'Wednesday, January 12, 2022 03:27:25', 'Wednesday, January 12, 2022 04:14:45', 'Wednesday, January 12, 2022 03:14:52', 'Wednesday, January 12, 2022 03:18:41', 'Wednesday, January 12, 2022 03:45:11', 'Wednesday, January 12, 2022 04:00:38', 'Wednesday, January 12, 2022 03:56:22', 'Wednesday, January 12, 2022 03:14:26', 'Wednesday, January 12, 2022 03:02:12', 'Wednesday, January 12, 2022 04:13:04', 'Wednesday, January 12, 2022 03:29:50', 'Wednesday, January 12, 2022 02:50:16', 'Wednesday, January 12, 2022 04:15:39', 'Wednesday, January 12, 2022 04:11:25', 'Wednesday, January 12, 2022 03:12:18', 'Wednesday, January 12, 2022 03:45:08', 'Wednesday, January 12, 2022 03:17:11', 'Wednesday, January 12, 2022 03:37:15', 'Wednesday, January 12, 2022 03:26:36', 'Wednesday, January 12, 2022 04:22:19', 'Wednesday, January 12, 2022 03:58:07', 'Wednesday, January 12, 2022 03:57:32', 'Wednesday, January 12, 2022 02:57:14', 'Wednesday, January 12, 2022 03:48:10', 'Wednesday, January 12, 2022 03:09:17', 'Wednesday, January 12, 2022 03:56:53', 'Wednesday, January 12, 2022 03:23:53', 'Wednesday, January 12, 2022 04:00:17', 'Wednesday, January 12, 2022 03:57:20', 'Wednesday, January 12, 2022 03:21:20', 'Wednesday, January 12, 2022 03:07:10', 'Wednesday, January 12, 2022 03:33:37', 'Wednesday, January 12, 2022 03:41:46', 'Wednesday, January 12, 2022 04:19:27', 'Wednesday, January 12, 2022 04:36:16', 'Wednesday, January 12, 2022 02:55:29', 'Wednesday, January 12, 2022 03:06:06', 'Wednesday, January 12, 2022 03:26:14', 'Wednesday, January 12, 2022 04:13:12', 'Wednesday, January 12, 2022 03:31:51', 'Wednesday, January 12, 2022 03:06:11', 'Wednesday, January 12, 2022 03:27:02', 'Wednesday, January 12, 2022 04:04:34', 'Wednesday, January 12, 2022 03:57:29', 'Wednesday, January 12, 2022 03:36:54', 'Wednesday, January 12, 2022 03:32:22', 'Wednesday, January 12, 2022 04:12:49', 'Wednesday, January 12, 2022 03:50:41', 'Wednesday, January 12, 2022 03:27:18', 'Wednesday, January 12, 2022 04:03:10', 'Wednesday, January 12, 2022 03:34:39', 'Wednesday, January 12, 2022 03:17:46', 'Wednesday, January 12, 2022 03:02:28', 'Wednesday, January 12, 2022 02:49:28', 'Wednesday, January 12, 2022 04:00:15', 'Wednesday, January 12, 2022 04:13:23', 'Wednesday, January 12, 2022 03:41:28', 'Wednesday, January 12, 2022 03:37:00', 'Wednesday, January 12, 2022 04:00:07', 'Wednesday, January 12, 2022 03:46:36', 'Wednesday, January 12, 2022 02:46:45', 'Wednesday, January 12, 2022 03:08:23', 'Wednesday, January 12, 2022 03:41:02', 'Wednesday, January 12, 2022 03:12:51', 'Wednesday, January 12, 2022 02:39:37', 'Wednesday, January 12, 2022 03:17:27', 'Wednesday, January 12, 2022 03:51:18', 'Wednesday, January 12, 2022 03:29:48', 'Wednesday, January 12, 2022 03:17:21', 'Wednesday, January 12, 2022 03:32:41', 'Wednesday, January 12, 2022 03:38:42', 'Wednesday, January 12, 2022 03:22:08', 'Wednesday, January 12, 2022 02:44:40', 'Wednesday, January 12, 2022 03:47:19', 'Wednesday, January 12, 2022 03:32:16', 'Wednesday, January 12, 2022 04:06:01', 'Wednesday, January 12, 2022 03:55:06', 'Wednesday, January 12, 2022 03:24:05', 'Wednesday, January 12, 2022 03:06:23', 'Wednesday, January 12, 2022 04:21:53', 'Wednesday, January 12, 2022 04:02:56', 'Wednesday, January 12, 2022 03:47:35', 'Wednesday, January 12, 2022 03:01:45', 'Wednesday, January 12, 2022 03:32:54', 'Wednesday, January 12, 2022 04:08:40', 'Wednesday, January 12, 2022 03:13:34', 'Wednesday, January 12, 2022 03:37:52', 'Wednesday, January 12, 2022 03:36:26', 'Wednesday, January 12, 2022 03:07:42', 'Wednesday, January 12, 2022 03:27:26', 'Wednesday, January 12, 2022 03:03:08', 'Wednesday, January 12, 2022 04:09:18', 'Wednesday, January 12, 2022 03:37:38', 'Wednesday, January 12, 2022 03:40:13', 'Wednesday, January 12, 2022 03:19:39', 'Wednesday, January 12, 2022 04:06:19', 'Wednesday, January 12, 2022 03:37:34', 'Wednesday, January 12, 2022 03:41:49', 'Wednesday, January 12, 2022 03:17:58', 'Wednesday, January 12, 2022 03:50:53', 'Wednesday, January 12, 2022 02:59:40', 'Wednesday, January 12, 2022 04:27:36', 'Wednesday, January 12, 2022 02:56:21', 'Wednesday, January 12, 2022 03:23:33', 'Wednesday, January 12, 2022 03:30:14', 'Wednesday, January 12, 2022 02:50:10', 'Wednesday, January 12, 2022 04:14:03', 'Wednesday, January 12, 2022 02:56:07', 'Wednesday, January 12, 2022 03:08:18', 'Wednesday, January 12, 2022 03:01:30', 'Wednesday, January 12, 2022 03:22:06', 'Wednesday, January 12, 2022 03:02:51', 'Wednesday, January 12, 2022 03:07:40', 'Wednesday, January 12, 2022 03:19:45', 'Wednesday, January 12, 2022 04:19:29', 'Wednesday, January 12, 2022 04:36:11', 'Wednesday, January 12, 2022 03:23:08', 'Wednesday, January 12, 2022 03:42:38', 'Wednesday, January 12, 2022 03:27:10', 'Wednesday, January 12, 2022 03:58:12', 'Wednesday, January 12, 2022 03:09:48', 'Wednesday, January 12, 2022 03:20:50', 'Wednesday, January 12, 2022 03:20:10', 'Wednesday, January 12, 2022 03:59:48', 'Wednesday, January 12, 2022 04:02:56', 'Wednesday, January 12, 2022 04:26:10', 'Wednesday, January 12, 2022 04:05:37', 'Wednesday, December 31, 1969 06:00:00', 'Wednesday, January 12, 2022 03:07:21', 'Wednesday, January 12, 2022 03:57:07', 'Wednesday, January 12, 2022 03:16:43', 'Wednesday, January 12, 2022 03:36:44', 'Wednesday, January 12, 2022 02:54:16', 'Wednesday, January 12, 2022 03:38:42', 'Wednesday, January 12, 2022 03:29:37', 'Wednesday, January 12, 2022 04:14:51', 'Wednesday, January 12, 2022 04:25:07', 'Wednesday, January 12, 2022 03:20:16', 'Wednesday, January 12, 2022 03:42:31', 'Wednesday, January 12, 2022 03:09:37', 'Wednesday, January 12, 2022 04:16:26', 'Wednesday, January 12, 2022 03:16:38', 'Wednesday, January 12, 2022 03:34:16', 'Wednesday, January 12, 2022 03:48:38', 'Wednesday, January 12, 2022 04:07:47', 'Wednesday, January 12, 2022 03:09:39', 'Wednesday, January 12, 2022 03:56:43', 'Wednesday, January 12, 2022 03:03:20', 'Wednesday, January 12, 2022 03:15:52', 'Wednesday, January 12, 2022 02:53:23', 'Wednesday, January 12, 2022 03:35:54', 'Wednesday, January 12, 2022 03:47:48', 'Wednesday, January 12, 2022 03:36:43', 'Wednesday, January 12, 2022 02:56:30', 'Wednesday, January 12, 2022 04:02:08', 'Wednesday, January 12, 2022 03:11:44', 'Wednesday, January 12, 2022 03:36:56', 'Wednesday, January 12, 2022 03:07:40', 'Wednesday, January 12, 2022 03:04:48', 'Wednesday, January 12, 2022 03:23:44', 'Wednesday, January 12, 2022 03:59:19', 'Wednesday, January 12, 2022 04:00:43', 'Wednesday, January 12, 2022 04:07:41', 'Wednesday, January 12, 2022 04:17:35', 'Wednesday, January 12, 2022 02:40:33', 'Wednesday, January 12, 2022 03:52:00', 'Wednesday, January 12, 2022 03:32:14', 'Wednesday, January 12, 2022 03:14:57', 'Wednesday, January 12, 2022 04:06:31', 'Wednesday, January 12, 2022 04:30:08', 'Wednesday, January 12, 2022 04:11:18', 'Wednesday, January 12, 2022 03:25:10', 'Wednesday, January 12, 2022 03:19:53', 'Wednesday, January 12, 2022 03:56:12', 'Wednesday, January 12, 2022 03:22:20', 'Wednesday, January 12, 2022 03:26:03', 'Wednesday, January 12, 2022 04:06:14', 'Wednesday, January 12, 2022 03:28:30', 'Wednesday, January 12, 2022 04:23:28', 'Wednesday, January 12, 2022 03:25:33', 'Wednesday, January 12, 2022 03:55:27', 'Wednesday, January 12, 2022 03:37:34', 'Wednesday, January 12, 2022 04:01:10', 'Wednesday, January 12, 2022 03:19:18', 'Wednesday, January 12, 2022 03:13:05', 'Wednesday, January 12, 2022 03:56:26', 'Wednesday, January 12, 2022 02:48:38', 'Wednesday, January 12, 2022 02:59:53', 'Wednesday, January 12, 2022 03:02:25', 'Wednesday, December 31, 1969 06:00:00', 'Wednesday, January 12, 2022 02:59:29', 'Wednesday, January 12, 2022 03:39:05', 'Wednesday, January 12, 2022 04:18:53', 'Wednesday, January 12, 2022 03:32:29', 'Wednesday, January 12, 2022 03:16:55', 'Wednesday, January 12, 2022 03:18:48', 'Wednesday, January 12, 2022 03:33:32', 'Wednesday, January 12, 2022 03:05:29', 'Wednesday, January 12, 2022 03:32:56', 'Wednesday, January 12, 2022 03:34:16', 'Wednesday, January 12, 2022 03:13:33', 'Wednesday, January 12, 2022 03:44:05', 'Wednesday, January 12, 2022 03:31:01', 'Wednesday, January 12, 2022 04:00:47', 'Wednesday, January 12, 2022 03:33:54', 'Wednesday, January 12, 2022 04:07:12', 'Wednesday, January 12, 2022 03:14:56', 'Wednesday, January 12, 2022 03:28:07', 'Wednesday, January 12, 2022 03:29:20', 'Wednesday, January 12, 2022 03:41:16', 'Wednesday, January 12, 2022 03:11:24', 'Wednesday, January 12, 2022 03:40:40', 'Wednesday, January 12, 2022 03:12:21', 'Wednesday, January 12, 2022 03:34:23', 'Wednesday, January 12, 2022 04:07:26', 'Wednesday, January 12, 2022 03:48:23', 'Wednesday, January 12, 2022 02:53:51', 'Wednesday, January 12, 2022 03:21:07', 'Wednesday, January 12, 2022 03:54:39', 'Wednesday, January 12, 2022 03:30:43', 'Wednesday, January 12, 2022 03:33:14', 'Wednesday, January 12, 2022 03:33:51', 'Wednesday, January 12, 2022 02:59:35', 'Wednesday, January 12, 2022 03:34:31', 'Wednesday, January 12, 2022 03:32:35', 'Wednesday, January 12, 2022 03:40:14', 'Wednesday, January 12, 2022 03:35:07', 'Wednesday, January 12, 2022 03:43:19', 'Wednesday, January 12, 2022 03:36:43', 'Wednesday, January 12, 2022 04:14:46', 'Wednesday, January 12, 2022 03:40:33', 'Wednesday, January 12, 2022 03:50:41', 'Wednesday, January 12, 2022 03:39:17', 'Wednesday, January 12, 2022 03:14:50', 'Wednesday, January 12, 2022 03:33:11', 'Wednesday, January 12, 2022 03:50:56', 'Wednesday, January 12, 2022 03:41:14', 'Wednesday, January 12, 2022 03:02:40', 'Wednesday, January 12, 2022 03:32:35', 'Wednesday, January 12, 2022 03:25:22', 'Wednesday, January 12, 2022 03:34:27', 'Wednesday, January 12, 2022 03:02:23', 'Wednesday, January 12, 2022 03:11:04', 'Wednesday, January 12, 2022 03:14:29', 'Wednesday, January 12, 2022 02:42:45', 'Wednesday, December 31, 1969 06:00:00', 'Wednesday, January 12, 2022 04:15:10', 'Wednesday, January 12, 2022 03:21:07', 'Wednesday, January 12, 2022 03:38:45', 'Wednesday, January 12, 2022 02:49:18', 'Wednesday, January 12, 2022 03:11:39', 'Wednesday, January 12, 2022 04:07:59', 'Wednesday, January 12, 2022 04:06:43', 'Wednesday, January 12, 2022 03:58:30', 'Wednesday, January 12, 2022 03:54:35', 'Wednesday, January 12, 2022 03:42:43', 'Wednesday, January 12, 2022 03:38:44', 'Wednesday, January 12, 2022 03:33:28', 'Wednesday, January 12, 2022 03:20:23', 'Wednesday, January 12, 2022 03:20:12', 'Wednesday, January 12, 2022 03:08:34', 'Wednesday, January 12, 2022 03:37:46', 'Wednesday, January 12, 2022 03:14:28', 'Wednesday, January 12, 2022 03:56:29', 'Wednesday, January 12, 2022 03:42:54', 'Wednesday, January 12, 2022 03:12:07', 'Wednesday, January 12, 2022 03:42:43', 'Wednesday, January 12, 2022 03:33:30', 'Wednesday, January 12, 2022 03:34:13', 'Wednesday, January 12, 2022 02:46:02']\n"
     ]
    }
   ],
   "source": [
    "times = arr.map(latest_departure, 'departure_time').compute()\n",
    "\n",
    "times = [datetime.fromtimestamp(a).astimezone(cst).strftime(\"%A, %B %d, %Y %I:%M:%S\") for a in times]\n",
    "print(times)"
   ]
  },
  {
   "cell_type": "code",
   "execution_count": null,
   "metadata": {},
   "outputs": [],
   "source": []
  }
 ],
 "metadata": {
  "interpreter": {
   "hash": "aee8b7b246df8f9039afb4144a1f6fd8d2ca17a180786b69acc140d282b71a49"
  },
  "kernelspec": {
   "display_name": "Python 3.9.7 64-bit",
   "language": "python",
   "name": "python3"
  },
  "language_info": {
   "codemirror_mode": {
    "name": "ipython",
    "version": 3
   },
   "file_extension": ".py",
   "mimetype": "text/x-python",
   "name": "python",
   "nbconvert_exporter": "python",
   "pygments_lexer": "ipython3",
   "version": "3.9.7"
  },
  "orig_nbformat": 4
 },
 "nbformat": 4,
 "nbformat_minor": 2
}
