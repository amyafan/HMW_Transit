{
  "nbformat": 4,
  "nbformat_minor": 0,
  "metadata": {
    "colab": {
      "name": "1_Metro_API.ipynb",
      "provenance": [],
      "collapsed_sections": []
    },
    "kernelspec": {
      "name": "python3",
      "display_name": "Python 3"
    },
    "language_info": {
      "name": "python"
    }
  },
  "cells": [
    {
      "cell_type": "markdown",
      "metadata": {
        "id": "WceMdsq83MHN"
      },
      "source": [
        "# Metro transit information \n",
        "\n",
        "Using the metro API, this notebook gets data on travel times to Hattie Mae White on board meeting days. "
      ]
    },
    {
      "cell_type": "code",
      "metadata": {
        "id": "aFf61gbJdu3N"
      },
      "source": [
        "!pip install airtable"
      ],
      "execution_count": null,
      "outputs": []
    },
    {
      "cell_type": "code",
      "metadata": {
        "id": "zyQObn_z3Jk8"
      },
      "source": [
        "import numpy as np\n",
        "import pandas as pd\n",
        "import requests\n",
        "from airtable import airtable\n",
        "import time\n",
        "import dateutil\n",
        "from google.colab import drive"
      ],
      "execution_count": 360,
      "outputs": []
    },
    {
      "cell_type": "markdown",
      "metadata": {
        "id": "VV21ldscGxWv"
      },
      "source": [
        "## Testing things\n",
        "\n",
        "It's been a while since I've worked with an API, so let's just make sure some things are right"
      ]
    },
    {
      "cell_type": "code",
      "metadata": {
        "colab": {
          "base_uri": "https://localhost:8080/"
        },
        "id": "jLZUFgVI3_vp",
        "outputId": "abdafbd3-f8a6-4223-be62-0601d87c55f7"
      },
      "source": [
        "# Let's get all the information on the one route I ride the most often\n",
        "response = requests.get(\"https://api.ridemetro.org/data/Routes?$filter=RouteName eq '004'&subscription-key=4e7902d1a2ae42df978fe20387049854\")\n",
        "print(response.status_code)"
      ],
      "execution_count": null,
      "outputs": [
        {
          "output_type": "stream",
          "name": "stdout",
          "text": [
            "200\n"
          ]
        }
      ]
    },
    {
      "cell_type": "code",
      "metadata": {
        "colab": {
          "base_uri": "https://localhost:8080/"
        },
        "id": "-Tqp0dE16Vpi",
        "outputId": "0cfc4959-53cf-40ca-caf7-ab79d0316762"
      },
      "source": [
        "response.json()"
      ],
      "execution_count": null,
      "outputs": [
        {
          "output_type": "execute_result",
          "data": {
            "text/plain": [
              "{'@odata.context': 'http://api.transitiq.com/ODataService.svc/$metadata#Routes',\n",
              " 'value': [{'AgencyAbbreviation': 'RideMetro',\n",
              "   'DataSource': 'Transit_5',\n",
              "   'FinalStop0Id': None,\n",
              "   'FinalStop1Id': None,\n",
              "   'LongName': 'Beechnut',\n",
              "   'RouteId': 'Ho414_4620_41894',\n",
              "   'RouteName': '004',\n",
              "   'RouteType': 'Bus'}]}"
            ]
          },
          "metadata": {},
          "execution_count": 70
        }
      ]
    },
    {
      "cell_type": "code",
      "metadata": {
        "colab": {
          "base_uri": "https://localhost:8080/"
        },
        "id": "r9muqIBa-Z9-",
        "outputId": "43241fae-4c12-455a-cb6d-8e28b5f56f4b"
      },
      "source": [
        "# Now let's get all the information we can about this route. This is literally all the stops! \n",
        "response = requests.get(\"https://api.ridemetro.org/data/Routes('Ho414_4620_41894')?subscription-key=4e7902d1a2ae42df978fe20387049854&$expand=Stops\")\n",
        "print(response.status_code)"
      ],
      "execution_count": null,
      "outputs": [
        {
          "output_type": "stream",
          "name": "stdout",
          "text": [
            "200\n"
          ]
        }
      ]
    },
    {
      "cell_type": "code",
      "metadata": {
        "id": "3KE3RM5cEl2d"
      },
      "source": [
        "response.json()"
      ],
      "execution_count": null,
      "outputs": []
    },
    {
      "cell_type": "code",
      "metadata": {
        "colab": {
          "base_uri": "https://localhost:8080/"
        },
        "id": "Kg2SxYbTFB_D",
        "outputId": "07f1f364-ec60-4833-eacd-f6b44d036a0e"
      },
      "source": [
        "# Let's get all the vehicles\n",
        "response = requests.get(\"https://api.ridemetro.org/data/Vehicles?subscription-key=4e7902d1a2ae42df978fe20387049854\")\n",
        "print(response.status_code)\n"
      ],
      "execution_count": null,
      "outputs": [
        {
          "output_type": "stream",
          "name": "stdout",
          "text": [
            "200\n"
          ]
        }
      ]
    },
    {
      "cell_type": "code",
      "metadata": {
        "id": "x67OZl-dGLpk"
      },
      "source": [
        "response.json()"
      ],
      "execution_count": null,
      "outputs": []
    },
    {
      "cell_type": "markdown",
      "metadata": {
        "id": "NKGzYlBCG6qU"
      },
      "source": [
        "## Exploring bus stops around Hattie Mae White\n",
        "\n",
        "Let's start with how accessible Hattie Mae White is by public transit: Let's see what stops are in the area"
      ]
    },
    {
      "cell_type": "code",
      "metadata": {
        "id": "0Jy1grwsHRUi"
      },
      "source": [
        "# Hattie Mae White coordinatess\n",
        "\n",
        "HMW_lat = 29.802759908899148\n",
        "HMW_long = -95.45410037006431\n",
        "\n",
        "key = \"4e7902d1a2ae42df978fe20387049854\""
      ],
      "execution_count": null,
      "outputs": []
    },
    {
      "cell_type": "code",
      "metadata": {
        "colab": {
          "base_uri": "https://localhost:8080/"
        },
        "id": "4pibQSt2IMbO",
        "outputId": "748f34ae-08fb-4974-90df-9a97c3f5b2d6"
      },
      "source": [
        "HMW_stops = requests.get(f\"https://api.ridemetro.org/data/GeoAreas('{HMW_lat}|{HMW_long}|0.3')/Stops?subscription-key={key}\")\n",
        "print(HMW_stops.status_code)"
      ],
      "execution_count": null,
      "outputs": [
        {
          "output_type": "stream",
          "name": "stdout",
          "text": [
            "200\n"
          ]
        }
      ]
    },
    {
      "cell_type": "code",
      "metadata": {
        "id": "04Fy1w1PcnAu"
      },
      "source": [
        "HMW_stops.json()"
      ],
      "execution_count": null,
      "outputs": []
    },
    {
      "cell_type": "markdown",
      "metadata": {
        "id": "zHlr0Gs7eINN"
      },
      "source": [
        "## Linking airtable data\n",
        "\n",
        "Now, we'll calculate the distance from each school to HMW. To do this, we'll import information from the airtable base where I am putting all the information "
      ]
    },
    {
      "cell_type": "code",
      "metadata": {
        "id": "JDIMQEu5fY86"
      },
      "source": [
        "airtable_api_key = \"keyOZN2sN8u2NhZVY\"\n",
        "airtable_base_id = \"appxpHxQKYCeuAa46\""
      ],
      "execution_count": null,
      "outputs": []
    },
    {
      "cell_type": "code",
      "metadata": {
        "colab": {
          "base_uri": "https://localhost:8080/",
          "height": 771
        },
        "id": "PL0kOytwkuw-",
        "outputId": "cc244345-8d18-4283-c9f1-1b657acd525e"
      },
      "source": [
        "# taken from https://community.airtable.com/t/how-to-get-more-than-100-rows-using-airtable-api-in-python-using-offest/30536/2\n",
        "\n",
        "global offset\n",
        "offset = '0'\n",
        "t = []\n",
        "\n",
        "while True :\n",
        "    url = f\"https://api.airtable.com/v0/{airtable_base_id}/School%20Information\"\n",
        "    querystring = {\n",
        "        # \"view\":\"Grid View\",\n",
        "        \"api_key\": airtable_api_key,\n",
        "        \"offset\": offset}\n",
        "\n",
        "    try :\n",
        "        response= requests.get(url, params=querystring)\n",
        "        req = response.json()\n",
        "        page = pd.DataFrame(req, columns = req.keys())\n",
        "        page = pd.concat([page.drop(['records'], axis=1), page['records'].apply(pd.Series)], axis=1)\n",
        "        page = pd.concat([page.drop(['fields'], axis=1), page['fields'].apply(pd.Series)], axis=1).fillna('')\n",
        "\n",
        "        t.append(page)\n",
        "        print(records[0]['id'] , len(records))\n",
        "    \n",
        "        try : \n",
        "            offset = req['offset']\n",
        "            print(offset)\n",
        "            \n",
        "        except Exception as ex:\n",
        "            print(ex , offset)\n",
        "            break\n",
        "    \n",
        "    except error as e:\n",
        "        print(\"hi\")\n",
        "\n",
        "schools = pd.concat(t, axis=0).reset_index()\n",
        "\n",
        "# take the columns we want and rename them\n",
        "schools = schools[['School Name', 'Latitude [Public School] 2019-20', 'Longitude [Public School] 2019-20', 'School ID - NCES Assigned [Public School] Latest available year']]\n",
        "schools.columns = ['name', 'lat', 'long', 'id']\n",
        "\n",
        "schools.head(20)"
      ],
      "execution_count": null,
      "outputs": [
        {
          "output_type": "stream",
          "name": "stdout",
          "text": [
            "reciHyqBq9uMgr37c 80\n",
            "itryrZzCskZgswaT0/recLHuirfHVVPFD5m\n",
            "reciHyqBq9uMgr37c 80\n",
            "itryrZzCskZgswaT0/rechwX48Ju9zvX1zZ\n",
            "reciHyqBq9uMgr37c 80\n",
            "'offset' itryrZzCskZgswaT0/rechwX48Ju9zvX1zZ\n"
          ]
        },
        {
          "output_type": "execute_result",
          "data": {
            "text/html": [
              "<div>\n",
              "<style scoped>\n",
              "    .dataframe tbody tr th:only-of-type {\n",
              "        vertical-align: middle;\n",
              "    }\n",
              "\n",
              "    .dataframe tbody tr th {\n",
              "        vertical-align: top;\n",
              "    }\n",
              "\n",
              "    .dataframe thead th {\n",
              "        text-align: right;\n",
              "    }\n",
              "</style>\n",
              "<table border=\"1\" class=\"dataframe\">\n",
              "  <thead>\n",
              "    <tr style=\"text-align: right;\">\n",
              "      <th></th>\n",
              "      <th>name</th>\n",
              "      <th>lat</th>\n",
              "      <th>long</th>\n",
              "      <th>id</th>\n",
              "    </tr>\n",
              "  </thead>\n",
              "  <tbody>\n",
              "    <tr>\n",
              "      <th>0</th>\n",
              "      <td>GRISSOM EL</td>\n",
              "      <td>29.620428</td>\n",
              "      <td>-95.455033</td>\n",
              "      <td>482364002472</td>\n",
              "    </tr>\n",
              "    <tr>\n",
              "      <th>1</th>\n",
              "      <td>KING EARLY CHILDHOOD CTR</td>\n",
              "      <td>29.614025</td>\n",
              "      <td>-95.436000</td>\n",
              "      <td>482364010746</td>\n",
              "    </tr>\n",
              "    <tr>\n",
              "      <th>2</th>\n",
              "      <td>KOLTER EL</td>\n",
              "      <td>29.712887</td>\n",
              "      <td>-95.455950</td>\n",
              "      <td>482364002510</td>\n",
              "    </tr>\n",
              "    <tr>\n",
              "      <th>3</th>\n",
              "      <td>HOBBY EL</td>\n",
              "      <td>29.635314</td>\n",
              "      <td>-95.436981</td>\n",
              "      <td>482364002490</td>\n",
              "    </tr>\n",
              "    <tr>\n",
              "      <th>4</th>\n",
              "      <td>WELCH MIDDLE</td>\n",
              "      <td>29.653218</td>\n",
              "      <td>-95.529156</td>\n",
              "      <td>482364005501</td>\n",
              "    </tr>\n",
              "    <tr>\n",
              "      <th>5</th>\n",
              "      <td>HARRIS J R EL</td>\n",
              "      <td>29.718712</td>\n",
              "      <td>-95.277378</td>\n",
              "      <td>482364002478</td>\n",
              "    </tr>\n",
              "    <tr>\n",
              "      <th>6</th>\n",
              "      <td>BELLAIRE H S</td>\n",
              "      <td>29.692163</td>\n",
              "      <td>-95.469159</td>\n",
              "      <td>482364002397</td>\n",
              "    </tr>\n",
              "    <tr>\n",
              "      <th>7</th>\n",
              "      <td>MADISON H S</td>\n",
              "      <td>29.629169</td>\n",
              "      <td>-95.435617</td>\n",
              "      <td>482364002530</td>\n",
              "    </tr>\n",
              "    <tr>\n",
              "      <th>8</th>\n",
              "      <td>WOODSON SCHOOL</td>\n",
              "      <td>29.643053</td>\n",
              "      <td>-95.366681</td>\n",
              "      <td>482364002417</td>\n",
              "    </tr>\n",
              "    <tr>\n",
              "      <th>9</th>\n",
              "      <td>MICKEY LELAND COLLEGE PREP ACAD FOR YOUNG MEN</td>\n",
              "      <td>29.776713</td>\n",
              "      <td>-95.335360</td>\n",
              "      <td>482364012618</td>\n",
              "    </tr>\n",
              "    <tr>\n",
              "      <th>10</th>\n",
              "      <td>RIVER OAKS EL</td>\n",
              "      <td>29.747144</td>\n",
              "      <td>-95.420157</td>\n",
              "      <td>482364002567</td>\n",
              "    </tr>\n",
              "    <tr>\n",
              "      <th>11</th>\n",
              "      <td>FOSTER EL</td>\n",
              "      <td>29.692299</td>\n",
              "      <td>-95.360895</td>\n",
              "      <td>482364002459</td>\n",
              "    </tr>\n",
              "    <tr>\n",
              "      <th>12</th>\n",
              "      <td>LAS AMERICAS</td>\n",
              "      <td>29.704341</td>\n",
              "      <td>-95.497999</td>\n",
              "      <td>482364008608</td>\n",
              "    </tr>\n",
              "    <tr>\n",
              "      <th>13</th>\n",
              "      <td>WESTBURY H S</td>\n",
              "      <td>29.649573</td>\n",
              "      <td>-95.481053</td>\n",
              "      <td>482364002609</td>\n",
              "    </tr>\n",
              "    <tr>\n",
              "      <th>14</th>\n",
              "      <td>DURKEE EL</td>\n",
              "      <td>29.866454</td>\n",
              "      <td>-95.392103</td>\n",
              "      <td>482364002445</td>\n",
              "    </tr>\n",
              "    <tr>\n",
              "      <th>15</th>\n",
              "      <td>LOVETT EL</td>\n",
              "      <td>29.682691</td>\n",
              "      <td>-95.469149</td>\n",
              "      <td>482364002526</td>\n",
              "    </tr>\n",
              "    <tr>\n",
              "      <th>16</th>\n",
              "      <td>BELLFORT EARLY CHILDHOOD CENTER</td>\n",
              "      <td>29.672876</td>\n",
              "      <td>-95.283729</td>\n",
              "      <td>482364007940</td>\n",
              "    </tr>\n",
              "    <tr>\n",
              "      <th>17</th>\n",
              "      <td>SEGUIN EL</td>\n",
              "      <td>29.678552</td>\n",
              "      <td>-95.305714</td>\n",
              "      <td>482364009278</td>\n",
              "    </tr>\n",
              "    <tr>\n",
              "      <th>18</th>\n",
              "      <td>T H ROGERS SCHOOL</td>\n",
              "      <td>29.751023</td>\n",
              "      <td>-95.480849</td>\n",
              "      <td>482364006272</td>\n",
              "    </tr>\n",
              "    <tr>\n",
              "      <th>19</th>\n",
              "      <td>BURBANK MIDDLE</td>\n",
              "      <td>29.838473</td>\n",
              "      <td>-95.370528</td>\n",
              "      <td>482364002413</td>\n",
              "    </tr>\n",
              "  </tbody>\n",
              "</table>\n",
              "</div>"
            ],
            "text/plain": [
              "                                             name  ...            id\n",
              "0                                      GRISSOM EL  ...  482364002472\n",
              "1                        KING EARLY CHILDHOOD CTR  ...  482364010746\n",
              "2                                       KOLTER EL  ...  482364002510\n",
              "3                                        HOBBY EL  ...  482364002490\n",
              "4                                    WELCH MIDDLE  ...  482364005501\n",
              "5                                   HARRIS J R EL  ...  482364002478\n",
              "6                                    BELLAIRE H S  ...  482364002397\n",
              "7                                     MADISON H S  ...  482364002530\n",
              "8                                  WOODSON SCHOOL  ...  482364002417\n",
              "9   MICKEY LELAND COLLEGE PREP ACAD FOR YOUNG MEN  ...  482364012618\n",
              "10                                  RIVER OAKS EL  ...  482364002567\n",
              "11                                      FOSTER EL  ...  482364002459\n",
              "12                                   LAS AMERICAS  ...  482364008608\n",
              "13                                   WESTBURY H S  ...  482364002609\n",
              "14                                      DURKEE EL  ...  482364002445\n",
              "15                                      LOVETT EL  ...  482364002526\n",
              "16                BELLFORT EARLY CHILDHOOD CENTER  ...  482364007940\n",
              "17                                      SEGUIN EL  ...  482364009278\n",
              "18                              T H ROGERS SCHOOL  ...  482364006272\n",
              "19                                 BURBANK MIDDLE  ...  482364002413\n",
              "\n",
              "[20 rows x 4 columns]"
            ]
          },
          "metadata": {},
          "execution_count": 261
        }
      ]
    },
    {
      "cell_type": "code",
      "metadata": {
        "colab": {
          "base_uri": "https://localhost:8080/"
        },
        "id": "K_L5hi4Kh9kr",
        "outputId": "6aff92c7-e624-479d-b56b-41aa847c4f4c"
      },
      "source": [
        "# now, let's take a sample school and calculat the route! \n",
        "nrow = 2\n",
        "\n",
        "s_lat = schools.iloc[nrow, 1]\n",
        "s_long = schools.iloc[nrow, 2]\n",
        "\n",
        "print(schools.iloc[nrow, 0])\n",
        "print(s_lat, s_long)\n",
        "\n",
        "29.67397345835996, -95.46738418104776\n"
      ],
      "execution_count": null,
      "outputs": [
        {
          "output_type": "stream",
          "name": "stdout",
          "text": [
            "KOLTER EL\n",
            "29.712887 -95.45595\n"
          ]
        }
      ]
    },
    {
      "cell_type": "code",
      "metadata": {
        "colab": {
          "base_uri": "https://localhost:8080/"
        },
        "id": "A46wJ5qR6vIX",
        "outputId": "44eaac84-acbc-4155-cc12-c10cfd417d07"
      },
      "source": [
        "trip = requests.get(f\"https://api.ridemetro.org/data/CalculateItineraryByPoints?lat1={s_lat}&lon1={s_long}&lat2={HMW_lat}&lon2={HMW_long}&$orderby=EndTime&$expand=Legs&subscription-key={key}\")\n",
        "print(trip.status_code)"
      ],
      "execution_count": null,
      "outputs": [
        {
          "output_type": "stream",
          "name": "stdout",
          "text": [
            "200\n"
          ]
        }
      ]
    },
    {
      "cell_type": "code",
      "metadata": {
        "colab": {
          "base_uri": "https://localhost:8080/",
          "height": 111
        },
        "id": "gLPZYMTJOp85",
        "outputId": "0c3205ec-407c-4c64-914f-d860eccb91ae"
      },
      "source": [
        "pd.DataFrame(trip.json())"
      ],
      "execution_count": null,
      "outputs": [
        {
          "output_type": "execute_result",
          "data": {
            "text/html": [
              "<div>\n",
              "<style scoped>\n",
              "    .dataframe tbody tr th:only-of-type {\n",
              "        vertical-align: middle;\n",
              "    }\n",
              "\n",
              "    .dataframe tbody tr th {\n",
              "        vertical-align: top;\n",
              "    }\n",
              "\n",
              "    .dataframe thead th {\n",
              "        text-align: right;\n",
              "    }\n",
              "</style>\n",
              "<table border=\"1\" class=\"dataframe\">\n",
              "  <thead>\n",
              "    <tr style=\"text-align: right;\">\n",
              "      <th></th>\n",
              "      <th>@odata.context</th>\n",
              "      <th>value</th>\n",
              "    </tr>\n",
              "  </thead>\n",
              "  <tbody>\n",
              "    <tr>\n",
              "      <th>0</th>\n",
              "      <td>http://api.transitiq.com/ODataService.svc/$met...</td>\n",
              "      <td>{'ItineraryId': 'f04b4da1-c975-4358-9b1d-5d23b...</td>\n",
              "    </tr>\n",
              "    <tr>\n",
              "      <th>1</th>\n",
              "      <td>http://api.transitiq.com/ODataService.svc/$met...</td>\n",
              "      <td>{'ItineraryId': 'acc34e88-d91c-4b8d-bd88-262e5...</td>\n",
              "    </tr>\n",
              "  </tbody>\n",
              "</table>\n",
              "</div>"
            ],
            "text/plain": [
              "                                      @odata.context                                              value\n",
              "0  http://api.transitiq.com/ODataService.svc/$met...  {'ItineraryId': 'f04b4da1-c975-4358-9b1d-5d23b...\n",
              "1  http://api.transitiq.com/ODataService.svc/$met...  {'ItineraryId': 'acc34e88-d91c-4b8d-bd88-262e5..."
            ]
          },
          "metadata": {},
          "execution_count": 275
        }
      ]
    },
    {
      "cell_type": "code",
      "metadata": {
        "colab": {
          "base_uri": "https://localhost:8080/",
          "height": 233
        },
        "id": "XER1GGAp7rxY",
        "outputId": "31a3ccd6-8c1b-4662-be60-a40b1b2b3977"
      },
      "source": [
        "trip_df = trip['value'].apply(pd.Series)\n",
        "trip_df['school'] = schools.iloc[nrow, 0]\n",
        "trip_df['school_id'] = schools.iloc[nrow, 3]\n",
        "trip_df.head()"
      ],
      "execution_count": null,
      "outputs": [
        {
          "output_type": "execute_result",
          "data": {
            "text/html": [
              "<div>\n",
              "<style scoped>\n",
              "    .dataframe tbody tr th:only-of-type {\n",
              "        vertical-align: middle;\n",
              "    }\n",
              "\n",
              "    .dataframe tbody tr th {\n",
              "        vertical-align: top;\n",
              "    }\n",
              "\n",
              "    .dataframe thead th {\n",
              "        text-align: right;\n",
              "    }\n",
              "</style>\n",
              "<table border=\"1\" class=\"dataframe\">\n",
              "  <thead>\n",
              "    <tr style=\"text-align: right;\">\n",
              "      <th></th>\n",
              "      <th>ItineraryId</th>\n",
              "      <th>Created</th>\n",
              "      <th>Kml</th>\n",
              "      <th>StartTime</th>\n",
              "      <th>EndTime</th>\n",
              "      <th>AdjustedStartTime</th>\n",
              "      <th>AdjustedEndTime</th>\n",
              "      <th>StartStopName</th>\n",
              "      <th>EndStopName</th>\n",
              "      <th>StartStopId</th>\n",
              "      <th>EndStopId</th>\n",
              "      <th>StartAddress</th>\n",
              "      <th>EndAddress</th>\n",
              "      <th>TransferCount</th>\n",
              "      <th>TravelTypes</th>\n",
              "      <th>WalkDistance</th>\n",
              "      <th>RequestId</th>\n",
              "      <th>StartLon</th>\n",
              "      <th>StartLat</th>\n",
              "      <th>EndLon</th>\n",
              "      <th>EndLat</th>\n",
              "      <th>LocalTimeOffset</th>\n",
              "      <th>Legs</th>\n",
              "      <th>school</th>\n",
              "      <th>school_id</th>\n",
              "    </tr>\n",
              "  </thead>\n",
              "  <tbody>\n",
              "    <tr>\n",
              "      <th>0</th>\n",
              "      <td>4991ed22-ce9f-40cb-9c29-d7b5fdf5c387</td>\n",
              "      <td>2021-11-19T20:54:17.6687933Z</td>\n",
              "      <td>http://api.transitiq.com/ODataService.svc/GetI...</td>\n",
              "      <td>2021-11-19T21:32:29Z</td>\n",
              "      <td>2021-11-19T23:14:48Z</td>\n",
              "      <td>2021-11-19T21:32:29Z</td>\n",
              "      <td>2021-11-19T23:14:48Z</td>\n",
              "      <td>S Post Oak Rd @ Heatherbrook Dr</td>\n",
              "      <td>Hempstead Rd @ Post Oak Rd</td>\n",
              "      <td>Ho414_4620_5256</td>\n",
              "      <td>Ho414_4620_11053</td>\n",
              "      <td>None</td>\n",
              "      <td>None</td>\n",
              "      <td>2</td>\n",
              "      <td>Walk,Bus</td>\n",
              "      <td>1.247141</td>\n",
              "      <td>0388707b-346d-4211-b1b3-3d705fe18a26</td>\n",
              "      <td>-95.455033</td>\n",
              "      <td>29.620428</td>\n",
              "      <td>-95.4541</td>\n",
              "      <td>29.80276</td>\n",
              "      <td>-5</td>\n",
              "      <td>[{'ItineraryLegId': 1108178896, 'AgencyAbbrevi...</td>\n",
              "      <td>KOLTER EL</td>\n",
              "      <td>482364002510</td>\n",
              "    </tr>\n",
              "    <tr>\n",
              "      <th>1</th>\n",
              "      <td>8bbdbabb-ad36-4f4d-b341-89ef431dcaf8</td>\n",
              "      <td>2021-11-19T20:54:17.6691807Z</td>\n",
              "      <td>http://api.transitiq.com/ODataService.svc/GetI...</td>\n",
              "      <td>2021-11-19T21:32:29Z</td>\n",
              "      <td>2021-11-19T23:23:32Z</td>\n",
              "      <td>2021-11-19T21:32:29Z</td>\n",
              "      <td>2021-11-19T23:23:32Z</td>\n",
              "      <td>S Post Oak Rd @ Heatherbrook Dr</td>\n",
              "      <td>Hempstead Rd @ W Loop N</td>\n",
              "      <td>Ho414_4620_5256</td>\n",
              "      <td>Ho414_4620_8896</td>\n",
              "      <td>None</td>\n",
              "      <td>None</td>\n",
              "      <td>2</td>\n",
              "      <td>Walk,Bus</td>\n",
              "      <td>1.629523</td>\n",
              "      <td>0388707b-346d-4211-b1b3-3d705fe18a26</td>\n",
              "      <td>-95.455033</td>\n",
              "      <td>29.620428</td>\n",
              "      <td>-95.4541</td>\n",
              "      <td>29.80276</td>\n",
              "      <td>-5</td>\n",
              "      <td>[{'ItineraryLegId': 1108179896, 'AgencyAbbrevi...</td>\n",
              "      <td>KOLTER EL</td>\n",
              "      <td>482364002510</td>\n",
              "    </tr>\n",
              "  </tbody>\n",
              "</table>\n",
              "</div>"
            ],
            "text/plain": [
              "                            ItineraryId  ...     school_id\n",
              "0  4991ed22-ce9f-40cb-9c29-d7b5fdf5c387  ...  482364002510\n",
              "1  8bbdbabb-ad36-4f4d-b341-89ef431dcaf8  ...  482364002510\n",
              "\n",
              "[2 rows x 25 columns]"
            ]
          },
          "metadata": {},
          "execution_count": 264
        }
      ]
    },
    {
      "cell_type": "code",
      "metadata": {
        "id": "ZmkC_fwL7uEF"
      },
      "source": [
        "legs = trip_df['Legs'].apply(pd.Series)"
      ],
      "execution_count": null,
      "outputs": []
    },
    {
      "cell_type": "code",
      "metadata": {
        "colab": {
          "base_uri": "https://localhost:8080/",
          "height": 479
        },
        "id": "66kIr1lL8Hpy",
        "outputId": "89b36541-ae5f-4880-a1f8-01323a38d67e"
      },
      "source": [
        "legs.iloc[0].apply(pd.Series)"
      ],
      "execution_count": null,
      "outputs": [
        {
          "output_type": "execute_result",
          "data": {
            "text/html": [
              "<div>\n",
              "<style scoped>\n",
              "    .dataframe tbody tr th:only-of-type {\n",
              "        vertical-align: middle;\n",
              "    }\n",
              "\n",
              "    .dataframe tbody tr th {\n",
              "        vertical-align: top;\n",
              "    }\n",
              "\n",
              "    .dataframe thead th {\n",
              "        text-align: right;\n",
              "    }\n",
              "</style>\n",
              "<table border=\"1\" class=\"dataframe\">\n",
              "  <thead>\n",
              "    <tr style=\"text-align: right;\">\n",
              "      <th></th>\n",
              "      <th>ItineraryLegId</th>\n",
              "      <th>AgencyAbbreviation</th>\n",
              "      <th>AgencyName</th>\n",
              "      <th>Created</th>\n",
              "      <th>StopName</th>\n",
              "      <th>StopId</th>\n",
              "      <th>RouteId</th>\n",
              "      <th>RouteName</th>\n",
              "      <th>DirectionId</th>\n",
              "      <th>DirectionVariantId</th>\n",
              "      <th>DirectionName</th>\n",
              "      <th>RouteDestinationName</th>\n",
              "      <th>StartTime</th>\n",
              "      <th>AdjustedStartTime</th>\n",
              "      <th>Duration</th>\n",
              "      <th>Length</th>\n",
              "      <th>Address</th>\n",
              "      <th>ShapeUri</th>\n",
              "      <th>TransportType</th>\n",
              "      <th>Ordinal</th>\n",
              "      <th>ItineraryId</th>\n",
              "      <th>DataSource</th>\n",
              "      <th>Lat</th>\n",
              "      <th>Lon</th>\n",
              "      <th>TripId</th>\n",
              "      <th>TripHeadsign</th>\n",
              "      <th>DelayFromScheduleInSeconds</th>\n",
              "    </tr>\n",
              "  </thead>\n",
              "  <tbody>\n",
              "    <tr>\n",
              "      <th>0</th>\n",
              "      <td>1108178896</td>\n",
              "      <td>None</td>\n",
              "      <td>None</td>\n",
              "      <td>2021-11-19T20:54:17.6687139Z</td>\n",
              "      <td></td>\n",
              "      <td></td>\n",
              "      <td></td>\n",
              "      <td></td>\n",
              "      <td></td>\n",
              "      <td></td>\n",
              "      <td></td>\n",
              "      <td></td>\n",
              "      <td>2021-11-19T21:31:29Z</td>\n",
              "      <td>2021-11-19T21:31:29Z</td>\n",
              "      <td>979</td>\n",
              "      <td>0.843312</td>\n",
              "      <td></td>\n",
              "      <td></td>\n",
              "      <td>Walk</td>\n",
              "      <td>0</td>\n",
              "      <td>4991ed22-ce9f-40cb-9c29-d7b5fdf5c387</td>\n",
              "      <td>None</td>\n",
              "      <td>29.620428</td>\n",
              "      <td>-95.455033</td>\n",
              "      <td></td>\n",
              "      <td></td>\n",
              "      <td>NaN</td>\n",
              "    </tr>\n",
              "    <tr>\n",
              "      <th>1</th>\n",
              "      <td>1108178897</td>\n",
              "      <td>RideMetro</td>\n",
              "      <td>Houston</td>\n",
              "      <td>2021-11-19T20:54:17.6687662Z</td>\n",
              "      <td>S Post Oak Rd @ Heatherbrook Dr</td>\n",
              "      <td>Ho414_4620_5256</td>\n",
              "      <td>Ho414_4620_41922</td>\n",
              "      <td>049</td>\n",
              "      <td>Ho414_4620_41922_0</td>\n",
              "      <td>Ho414_4620_41922_0_1</td>\n",
              "      <td>NORTHWEST TC</td>\n",
              "      <td>NORTHWEST TC</td>\n",
              "      <td>2021-11-19T21:48:48Z</td>\n",
              "      <td>2021-11-19T21:48:48Z</td>\n",
              "      <td>4152</td>\n",
              "      <td>11.086886</td>\n",
              "      <td></td>\n",
              "      <td></td>\n",
              "      <td>Bus</td>\n",
              "      <td>1</td>\n",
              "      <td>4991ed22-ce9f-40cb-9c29-d7b5fdf5c387</td>\n",
              "      <td>None</td>\n",
              "      <td>29.622834</td>\n",
              "      <td>-95.464965</td>\n",
              "      <td>Ho414_4620_9267310</td>\n",
              "      <td>NORTHWEST TC</td>\n",
              "      <td>0.0</td>\n",
              "    </tr>\n",
              "    <tr>\n",
              "      <th>2</th>\n",
              "      <td>1108178898</td>\n",
              "      <td>RideMetro</td>\n",
              "      <td>Houston</td>\n",
              "      <td>2021-11-19T20:54:17.668788Z</td>\n",
              "      <td>79 - NORTHWEST BAY M</td>\n",
              "      <td>Ho414_4620_79_M</td>\n",
              "      <td>Ho414_4620_41928</td>\n",
              "      <td>058</td>\n",
              "      <td>Ho414_4620_41928_1</td>\n",
              "      <td>Ho414_4620_41928_1_0</td>\n",
              "      <td>WEST BELT</td>\n",
              "      <td>WEST BELT</td>\n",
              "      <td>2021-11-19T23:00:00Z</td>\n",
              "      <td>2021-11-19T23:00:00Z</td>\n",
              "      <td>360</td>\n",
              "      <td>1.104310</td>\n",
              "      <td></td>\n",
              "      <td></td>\n",
              "      <td>Bus</td>\n",
              "      <td>3</td>\n",
              "      <td>4991ed22-ce9f-40cb-9c29-d7b5fdf5c387</td>\n",
              "      <td>None</td>\n",
              "      <td>29.783070</td>\n",
              "      <td>-95.455460</td>\n",
              "      <td>Ho414_4620_9269230</td>\n",
              "      <td>WEST BELT</td>\n",
              "      <td>0.0</td>\n",
              "    </tr>\n",
              "    <tr>\n",
              "      <th>3</th>\n",
              "      <td>1108178899</td>\n",
              "      <td>None</td>\n",
              "      <td>None</td>\n",
              "      <td>2021-11-19T20:54:17.6687885Z</td>\n",
              "      <td>Hempstead Rd @ Post Oak Rd</td>\n",
              "      <td>Ho414_4620_11053</td>\n",
              "      <td></td>\n",
              "      <td></td>\n",
              "      <td></td>\n",
              "      <td></td>\n",
              "      <td></td>\n",
              "      <td></td>\n",
              "      <td>2021-11-19T23:07:00Z</td>\n",
              "      <td>2021-11-19T23:07:00Z</td>\n",
              "      <td>468</td>\n",
              "      <td>0.403830</td>\n",
              "      <td></td>\n",
              "      <td></td>\n",
              "      <td>Walk</td>\n",
              "      <td>4</td>\n",
              "      <td>4991ed22-ce9f-40cb-9c29-d7b5fdf5c387</td>\n",
              "      <td>None</td>\n",
              "      <td>29.799026</td>\n",
              "      <td>-95.456516</td>\n",
              "      <td></td>\n",
              "      <td></td>\n",
              "      <td>NaN</td>\n",
              "    </tr>\n",
              "    <tr>\n",
              "      <th>4</th>\n",
              "      <td>1108178900</td>\n",
              "      <td>None</td>\n",
              "      <td>None</td>\n",
              "      <td>2021-11-19T20:54:17.6687885Z</td>\n",
              "      <td></td>\n",
              "      <td></td>\n",
              "      <td></td>\n",
              "      <td></td>\n",
              "      <td></td>\n",
              "      <td></td>\n",
              "      <td></td>\n",
              "      <td></td>\n",
              "      <td>2021-11-19T23:07:00Z</td>\n",
              "      <td>2021-11-19T23:07:00Z</td>\n",
              "      <td>468</td>\n",
              "      <td>0.403830</td>\n",
              "      <td></td>\n",
              "      <td></td>\n",
              "      <td>Arrived</td>\n",
              "      <td>5</td>\n",
              "      <td>4991ed22-ce9f-40cb-9c29-d7b5fdf5c387</td>\n",
              "      <td>None</td>\n",
              "      <td>29.802760</td>\n",
              "      <td>-95.454100</td>\n",
              "      <td></td>\n",
              "      <td></td>\n",
              "      <td>NaN</td>\n",
              "    </tr>\n",
              "  </tbody>\n",
              "</table>\n",
              "</div>"
            ],
            "text/plain": [
              "   ItineraryLegId AgencyAbbreviation  ...  TripHeadsign DelayFromScheduleInSeconds\n",
              "0      1108178896               None  ...                                      NaN\n",
              "1      1108178897          RideMetro  ...  NORTHWEST TC                        0.0\n",
              "2      1108178898          RideMetro  ...     WEST BELT                        0.0\n",
              "3      1108178899               None  ...                                      NaN\n",
              "4      1108178900               None  ...                                      NaN\n",
              "\n",
              "[5 rows x 27 columns]"
            ]
          },
          "metadata": {},
          "execution_count": 262
        }
      ]
    },
    {
      "cell_type": "code",
      "metadata": {
        "colab": {
          "base_uri": "https://localhost:8080/",
          "height": 669
        },
        "id": "7CrAH_eSUe5v",
        "outputId": "f34cc6be-14f6-4641-a3c6-0860a4cc168d"
      },
      "source": [
        "schools.head(20)"
      ],
      "execution_count": null,
      "outputs": [
        {
          "output_type": "execute_result",
          "data": {
            "text/html": [
              "<div>\n",
              "<style scoped>\n",
              "    .dataframe tbody tr th:only-of-type {\n",
              "        vertical-align: middle;\n",
              "    }\n",
              "\n",
              "    .dataframe tbody tr th {\n",
              "        vertical-align: top;\n",
              "    }\n",
              "\n",
              "    .dataframe thead th {\n",
              "        text-align: right;\n",
              "    }\n",
              "</style>\n",
              "<table border=\"1\" class=\"dataframe\">\n",
              "  <thead>\n",
              "    <tr style=\"text-align: right;\">\n",
              "      <th></th>\n",
              "      <th>name</th>\n",
              "      <th>lat</th>\n",
              "      <th>long</th>\n",
              "      <th>id</th>\n",
              "    </tr>\n",
              "  </thead>\n",
              "  <tbody>\n",
              "    <tr>\n",
              "      <th>0</th>\n",
              "      <td>GRISSOM EL</td>\n",
              "      <td>29.620428</td>\n",
              "      <td>-95.455033</td>\n",
              "      <td>482364002472</td>\n",
              "    </tr>\n",
              "    <tr>\n",
              "      <th>1</th>\n",
              "      <td>KING EARLY CHILDHOOD CTR</td>\n",
              "      <td>29.614025</td>\n",
              "      <td>-95.436000</td>\n",
              "      <td>482364010746</td>\n",
              "    </tr>\n",
              "    <tr>\n",
              "      <th>2</th>\n",
              "      <td>KOLTER EL</td>\n",
              "      <td>29.712887</td>\n",
              "      <td>-95.455950</td>\n",
              "      <td>482364002510</td>\n",
              "    </tr>\n",
              "    <tr>\n",
              "      <th>3</th>\n",
              "      <td>HOBBY EL</td>\n",
              "      <td>29.635314</td>\n",
              "      <td>-95.436981</td>\n",
              "      <td>482364002490</td>\n",
              "    </tr>\n",
              "    <tr>\n",
              "      <th>4</th>\n",
              "      <td>WELCH MIDDLE</td>\n",
              "      <td>29.653218</td>\n",
              "      <td>-95.529156</td>\n",
              "      <td>482364005501</td>\n",
              "    </tr>\n",
              "    <tr>\n",
              "      <th>5</th>\n",
              "      <td>HARRIS J R EL</td>\n",
              "      <td>29.718712</td>\n",
              "      <td>-95.277378</td>\n",
              "      <td>482364002478</td>\n",
              "    </tr>\n",
              "    <tr>\n",
              "      <th>6</th>\n",
              "      <td>BELLAIRE H S</td>\n",
              "      <td>29.692163</td>\n",
              "      <td>-95.469159</td>\n",
              "      <td>482364002397</td>\n",
              "    </tr>\n",
              "    <tr>\n",
              "      <th>7</th>\n",
              "      <td>MADISON H S</td>\n",
              "      <td>29.629169</td>\n",
              "      <td>-95.435617</td>\n",
              "      <td>482364002530</td>\n",
              "    </tr>\n",
              "    <tr>\n",
              "      <th>8</th>\n",
              "      <td>WOODSON SCHOOL</td>\n",
              "      <td>29.643053</td>\n",
              "      <td>-95.366681</td>\n",
              "      <td>482364002417</td>\n",
              "    </tr>\n",
              "    <tr>\n",
              "      <th>9</th>\n",
              "      <td>MICKEY LELAND COLLEGE PREP ACAD FOR YOUNG MEN</td>\n",
              "      <td>29.776713</td>\n",
              "      <td>-95.335360</td>\n",
              "      <td>482364012618</td>\n",
              "    </tr>\n",
              "    <tr>\n",
              "      <th>10</th>\n",
              "      <td>RIVER OAKS EL</td>\n",
              "      <td>29.747144</td>\n",
              "      <td>-95.420157</td>\n",
              "      <td>482364002567</td>\n",
              "    </tr>\n",
              "    <tr>\n",
              "      <th>11</th>\n",
              "      <td>FOSTER EL</td>\n",
              "      <td>29.692299</td>\n",
              "      <td>-95.360895</td>\n",
              "      <td>482364002459</td>\n",
              "    </tr>\n",
              "    <tr>\n",
              "      <th>12</th>\n",
              "      <td>LAS AMERICAS</td>\n",
              "      <td>29.704341</td>\n",
              "      <td>-95.497999</td>\n",
              "      <td>482364008608</td>\n",
              "    </tr>\n",
              "    <tr>\n",
              "      <th>13</th>\n",
              "      <td>WESTBURY H S</td>\n",
              "      <td>29.649573</td>\n",
              "      <td>-95.481053</td>\n",
              "      <td>482364002609</td>\n",
              "    </tr>\n",
              "    <tr>\n",
              "      <th>14</th>\n",
              "      <td>DURKEE EL</td>\n",
              "      <td>29.866454</td>\n",
              "      <td>-95.392103</td>\n",
              "      <td>482364002445</td>\n",
              "    </tr>\n",
              "    <tr>\n",
              "      <th>15</th>\n",
              "      <td>LOVETT EL</td>\n",
              "      <td>29.682691</td>\n",
              "      <td>-95.469149</td>\n",
              "      <td>482364002526</td>\n",
              "    </tr>\n",
              "    <tr>\n",
              "      <th>16</th>\n",
              "      <td>BELLFORT EARLY CHILDHOOD CENTER</td>\n",
              "      <td>29.672876</td>\n",
              "      <td>-95.283729</td>\n",
              "      <td>482364007940</td>\n",
              "    </tr>\n",
              "    <tr>\n",
              "      <th>17</th>\n",
              "      <td>SEGUIN EL</td>\n",
              "      <td>29.678552</td>\n",
              "      <td>-95.305714</td>\n",
              "      <td>482364009278</td>\n",
              "    </tr>\n",
              "    <tr>\n",
              "      <th>18</th>\n",
              "      <td>T H ROGERS SCHOOL</td>\n",
              "      <td>29.751023</td>\n",
              "      <td>-95.480849</td>\n",
              "      <td>482364006272</td>\n",
              "    </tr>\n",
              "    <tr>\n",
              "      <th>19</th>\n",
              "      <td>BURBANK MIDDLE</td>\n",
              "      <td>29.838473</td>\n",
              "      <td>-95.370528</td>\n",
              "      <td>482364002413</td>\n",
              "    </tr>\n",
              "  </tbody>\n",
              "</table>\n",
              "</div>"
            ],
            "text/plain": [
              "                                             name  ...            id\n",
              "0                                      GRISSOM EL  ...  482364002472\n",
              "1                        KING EARLY CHILDHOOD CTR  ...  482364010746\n",
              "2                                       KOLTER EL  ...  482364002510\n",
              "3                                        HOBBY EL  ...  482364002490\n",
              "4                                    WELCH MIDDLE  ...  482364005501\n",
              "5                                   HARRIS J R EL  ...  482364002478\n",
              "6                                    BELLAIRE H S  ...  482364002397\n",
              "7                                     MADISON H S  ...  482364002530\n",
              "8                                  WOODSON SCHOOL  ...  482364002417\n",
              "9   MICKEY LELAND COLLEGE PREP ACAD FOR YOUNG MEN  ...  482364012618\n",
              "10                                  RIVER OAKS EL  ...  482364002567\n",
              "11                                      FOSTER EL  ...  482364002459\n",
              "12                                   LAS AMERICAS  ...  482364008608\n",
              "13                                   WESTBURY H S  ...  482364002609\n",
              "14                                      DURKEE EL  ...  482364002445\n",
              "15                                      LOVETT EL  ...  482364002526\n",
              "16                BELLFORT EARLY CHILDHOOD CENTER  ...  482364007940\n",
              "17                                      SEGUIN EL  ...  482364009278\n",
              "18                              T H ROGERS SCHOOL  ...  482364006272\n",
              "19                                 BURBANK MIDDLE  ...  482364002413\n",
              "\n",
              "[20 rows x 4 columns]"
            ]
          },
          "metadata": {},
          "execution_count": 319
        }
      ]
    },
    {
      "cell_type": "markdown",
      "metadata": {
        "id": "XrkmhvzuMffN"
      },
      "source": [
        "## Running it on all the schools \n",
        "\n",
        "Now, let's loop through all the schools and put all the routes together "
      ]
    },
    {
      "cell_type": "code",
      "metadata": {
        "colab": {
          "base_uri": "https://localhost:8080/"
        },
        "id": "aoSsiHdJNUzC",
        "outputId": "1438afa1-eca8-45e4-c8ee-abb8d66cff11"
      },
      "source": [
        "routelist = []\n",
        "\n",
        "for nrow in range(0, len(schools)): \n",
        "\n",
        "  s_lat = schools.iloc[nrow, 1]\n",
        "  s_long = schools.iloc[nrow, 2]\n",
        "\n",
        "  # get the trip information for that school\n",
        "  trip = requests.get(f\"https://api.ridemetro.org/data/CalculateItineraryByPoints?lat1={s_lat}&lon1={s_long}&lat2={HMW_lat}&lon2={HMW_long}&$orderby=EndTime&$expand=Legs&subscription-key={key}\")\n",
        "\n",
        "  trip1 = pd.DataFrame(trip.json())\n",
        "\n",
        "  trip_df = trip1['value'].apply(pd.Series)\n",
        "  trip_df['school'] = schools.iloc[nrow, 0]\n",
        "  trip_df['school_id'] = schools.iloc[nrow, 3]\n",
        "\n",
        "  routelist.append(trip_df)\n",
        "  print(f\"Done with school #{nrow}: {schools.iloc[nrow, 0]}\")\n",
        "\n",
        "  time.sleep(2)   "
      ],
      "execution_count": null,
      "outputs": [
        {
          "output_type": "stream",
          "name": "stdout",
          "text": [
            "Done with school #0\n",
            "Done with school #1\n",
            "Done with school #2\n",
            "Done with school #3\n",
            "Done with school #4\n",
            "Done with school #5\n",
            "Done with school #6\n",
            "Done with school #7\n",
            "Done with school #8\n",
            "Done with school #9\n",
            "Done with school #10\n",
            "Done with school #11\n",
            "Done with school #12\n",
            "Done with school #13\n",
            "Done with school #14\n",
            "Done with school #15\n",
            "Done with school #16\n",
            "Done with school #17\n",
            "Done with school #18\n",
            "Done with school #19\n",
            "Done with school #20\n",
            "Done with school #21\n",
            "Done with school #22\n",
            "Done with school #23\n",
            "Done with school #24\n",
            "Done with school #25\n",
            "Done with school #26\n",
            "Done with school #27\n",
            "Done with school #28\n",
            "Done with school #29\n",
            "Done with school #30\n",
            "Done with school #31\n",
            "Done with school #32\n",
            "Done with school #33\n",
            "Done with school #34\n",
            "Done with school #35\n",
            "Done with school #36\n",
            "Done with school #37\n",
            "Done with school #38\n",
            "Done with school #39\n",
            "Done with school #40\n",
            "Done with school #41\n",
            "Done with school #42\n",
            "Done with school #43\n",
            "Done with school #44\n",
            "Done with school #45\n",
            "Done with school #46\n",
            "Done with school #47\n",
            "Done with school #48\n",
            "Done with school #49\n",
            "Done with school #50\n",
            "Done with school #51\n",
            "Done with school #52\n",
            "Done with school #53\n",
            "Done with school #54\n",
            "Done with school #55\n",
            "Done with school #56\n",
            "Done with school #57\n",
            "Done with school #58\n",
            "Done with school #59\n",
            "Done with school #60\n",
            "Done with school #61\n",
            "Done with school #62\n",
            "Done with school #63\n",
            "Done with school #64\n",
            "Done with school #65\n",
            "Done with school #66\n",
            "Done with school #67\n",
            "Done with school #68\n",
            "Done with school #69\n",
            "Done with school #70\n",
            "Done with school #71\n",
            "Done with school #72\n",
            "Done with school #73\n",
            "Done with school #74\n",
            "Done with school #75\n",
            "Done with school #76\n",
            "Done with school #77\n",
            "Done with school #78\n",
            "Done with school #79\n",
            "Done with school #80\n",
            "Done with school #81\n",
            "Done with school #82\n",
            "Done with school #83\n",
            "Done with school #84\n",
            "Done with school #85\n",
            "Done with school #86\n",
            "Done with school #87\n",
            "Done with school #88\n",
            "Done with school #89\n",
            "Done with school #90\n",
            "Done with school #91\n",
            "Done with school #92\n",
            "Done with school #93\n",
            "Done with school #94\n",
            "Done with school #95\n",
            "Done with school #96\n",
            "Done with school #97\n",
            "Done with school #98\n",
            "Done with school #99\n",
            "Done with school #100\n",
            "Done with school #101\n",
            "Done with school #102\n",
            "Done with school #103\n",
            "Done with school #104\n",
            "Done with school #105\n",
            "Done with school #106\n",
            "Done with school #107\n",
            "Done with school #108\n",
            "Done with school #109\n",
            "Done with school #110\n",
            "Done with school #111\n",
            "Done with school #112\n",
            "Done with school #113\n",
            "Done with school #114\n",
            "Done with school #115\n",
            "Done with school #116\n",
            "Done with school #117\n",
            "Done with school #118\n",
            "Done with school #119\n",
            "Done with school #120\n",
            "Done with school #121\n",
            "Done with school #122\n",
            "Done with school #123\n",
            "Done with school #124\n",
            "Done with school #125\n",
            "Done with school #126\n",
            "Done with school #127\n",
            "Done with school #128\n",
            "Done with school #129\n",
            "Done with school #130\n",
            "Done with school #131\n",
            "Done with school #132\n",
            "Done with school #133\n",
            "Done with school #134\n",
            "Done with school #135\n",
            "Done with school #136\n",
            "Done with school #137\n",
            "Done with school #138\n",
            "Done with school #139\n",
            "Done with school #140\n",
            "Done with school #141\n",
            "Done with school #142\n",
            "Done with school #143\n",
            "Done with school #144\n",
            "Done with school #145\n",
            "Done with school #146\n",
            "Done with school #147\n",
            "Done with school #148\n",
            "Done with school #149\n",
            "Done with school #150\n",
            "Done with school #151\n",
            "Done with school #152\n",
            "Done with school #153\n",
            "Done with school #154\n",
            "Done with school #155\n",
            "Done with school #156\n",
            "Done with school #157\n",
            "Done with school #158\n",
            "Done with school #159\n",
            "Done with school #160\n",
            "Done with school #161\n",
            "Done with school #162\n",
            "Done with school #163\n",
            "Done with school #164\n",
            "Done with school #165\n",
            "Done with school #166\n",
            "Done with school #167\n",
            "Done with school #168\n",
            "Done with school #169\n",
            "Done with school #170\n",
            "Done with school #171\n",
            "Done with school #172\n",
            "Done with school #173\n",
            "Done with school #174\n",
            "Done with school #175\n",
            "Done with school #176\n",
            "Done with school #177\n",
            "Done with school #178\n",
            "Done with school #179\n",
            "Done with school #180\n",
            "Done with school #181\n",
            "Done with school #182\n",
            "Done with school #183\n",
            "Done with school #184\n",
            "Done with school #185\n",
            "Done with school #186\n",
            "Done with school #187\n",
            "Done with school #188\n",
            "Done with school #189\n",
            "Done with school #190\n",
            "Done with school #191\n",
            "Done with school #192\n",
            "Done with school #193\n",
            "Done with school #194\n",
            "Done with school #195\n",
            "Done with school #196\n",
            "Done with school #197\n",
            "Done with school #198\n",
            "Done with school #199\n",
            "Done with school #200\n",
            "Done with school #201\n",
            "Done with school #202\n",
            "Done with school #203\n",
            "Done with school #204\n",
            "Done with school #205\n",
            "Done with school #206\n",
            "Done with school #207\n",
            "Done with school #208\n",
            "Done with school #209\n",
            "Done with school #210\n",
            "Done with school #211\n",
            "Done with school #212\n",
            "Done with school #213\n",
            "Done with school #214\n",
            "Done with school #215\n",
            "Done with school #216\n",
            "Done with school #217\n",
            "Done with school #218\n",
            "Done with school #219\n",
            "Done with school #220\n",
            "Done with school #221\n",
            "Done with school #222\n",
            "Done with school #223\n",
            "Done with school #224\n",
            "Done with school #225\n",
            "Done with school #226\n",
            "Done with school #227\n",
            "Done with school #228\n",
            "Done with school #229\n",
            "Done with school #230\n",
            "Done with school #231\n",
            "Done with school #232\n",
            "Done with school #233\n",
            "Done with school #234\n",
            "Done with school #235\n",
            "Done with school #236\n",
            "Done with school #237\n",
            "Done with school #238\n",
            "Done with school #239\n",
            "Done with school #240\n",
            "Done with school #241\n",
            "Done with school #242\n",
            "Done with school #243\n",
            "Done with school #244\n",
            "Done with school #245\n",
            "Done with school #246\n",
            "Done with school #247\n",
            "Done with school #248\n",
            "Done with school #249\n",
            "Done with school #250\n",
            "Done with school #251\n",
            "Done with school #252\n",
            "Done with school #253\n",
            "Done with school #254\n",
            "Done with school #255\n",
            "Done with school #256\n",
            "Done with school #257\n",
            "Done with school #258\n",
            "Done with school #259\n",
            "Done with school #260\n",
            "Done with school #261\n",
            "Done with school #262\n",
            "Done with school #263\n",
            "Done with school #264\n",
            "Done with school #265\n",
            "Done with school #266\n",
            "Done with school #267\n",
            "Done with school #268\n",
            "Done with school #269\n",
            "Done with school #270\n",
            "Done with school #271\n",
            "Done with school #272\n",
            "Done with school #273\n",
            "Done with school #274\n",
            "Done with school #275\n",
            "Done with school #276\n",
            "Done with school #277\n",
            "Done with school #278\n",
            "Done with school #279\n"
          ]
        }
      ]
    },
    {
      "cell_type": "code",
      "metadata": {
        "colab": {
          "base_uri": "https://localhost:8080/"
        },
        "id": "tWMs4HkdNfmG",
        "outputId": "fa8aae2a-31ce-4b99-d9c7-16a4cf6aa81e"
      },
      "source": [
        "routes = pd.concat(routelist, ignore_index = True)\n",
        "routes['AdjustedStartTime'] = routes.AdjustedStartTime.apply(dateutil.parser.isoparse)\n",
        "routes['AdjustedEndTime'] = routes.AdjustedEndTime.apply(dateutil.parser.isoparse)\n",
        "routes['length'] = routes['AdjustedEndTime'] - routes['AdjustedStartTime']\n",
        "\n",
        "all_legs = routes['Legs'].apply(pd.Series)\n",
        "leglist = []\n",
        "\n",
        "for route in range(0, len(all_legs)): \n",
        "\n",
        "  temp = all_legs.iloc[route, :].apply(pd.Series)\n",
        "  leglist.append(temp)\n",
        "\n",
        "legs = pd.concat(leglist)\n",
        "print(legs.shape)\n",
        "legs = legs[~np.isnan(legs['Ordinal'])]\n",
        "legs.shape"
      ],
      "execution_count": 373,
      "outputs": [
        {
          "output_type": "stream",
          "name": "stdout",
          "text": [
            "(12410, 28)\n"
          ]
        },
        {
          "output_type": "execute_result",
          "data": {
            "text/plain": [
              "(8073, 28)"
            ]
          },
          "metadata": {},
          "execution_count": 373
        }
      ]
    },
    {
      "cell_type": "code",
      "metadata": {
        "colab": {
          "base_uri": "https://localhost:8080/"
        },
        "id": "6cdm5q4gTTNE",
        "outputId": "f480cc12-57f9-43fb-da78-7866bd3c2391"
      },
      "source": [
        "print(f\"Number of schools: {len(schools)}\")\n",
        "print(f\"Number of routes: {len(routes)}\")\n",
        "print(f\"Number of legs: {len(legs)}\")"
      ],
      "execution_count": 337,
      "outputs": [
        {
          "output_type": "stream",
          "name": "stdout",
          "text": [
            "Number of schools: 280\n",
            "Number of routes: 1241\n",
            "Number of legs: 8073\n"
          ]
        }
      ]
    },
    {
      "cell_type": "code",
      "metadata": {
        "id": "8NtaK9shT4WV"
      },
      "source": [
        "legs.sort_values(['ItineraryId', 'Ordinal'], inplace = True)\n",
        "legs.head()"
      ],
      "execution_count": null,
      "outputs": []
    },
    {
      "cell_type": "code",
      "metadata": {
        "colab": {
          "base_uri": "https://localhost:8080/"
        },
        "id": "yr5us6jTf2PN",
        "outputId": "8ed86d0e-4850-4566-a033-8456f5ba47fa"
      },
      "source": [
        "mintrans = routes[routes.TravelTypes != \"Walk\"].sort_values('TransferCount').drop_duplicates(subset = 'school_id', keep = 'first')\n",
        "mintrans.TransferCount.value_counts()"
      ],
      "execution_count": 377,
      "outputs": [
        {
          "output_type": "execute_result",
          "data": {
            "text/plain": [
              "2    164\n",
              "3     79\n",
              "1     35\n",
              "4      1\n",
              "Name: TransferCount, dtype: int64"
            ]
          },
          "metadata": {},
          "execution_count": 377
        }
      ]
    },
    {
      "cell_type": "code",
      "metadata": {
        "colab": {
          "base_uri": "https://localhost:8080/"
        },
        "id": "0mD_cSzbi5jf",
        "outputId": "0163799a-0d26-4dda-fdfb-c08110311a49"
      },
      "source": [
        "mintrans.length.describe()"
      ],
      "execution_count": 378,
      "outputs": [
        {
          "output_type": "execute_result",
          "data": {
            "text/plain": [
              "count                          279\n",
              "mean     0 days 01:20:12.820788530\n",
              "std      0 days 00:28:27.858972493\n",
              "min                0 days 00:15:58\n",
              "25%                0 days 01:01:52\n",
              "50%                0 days 01:18:38\n",
              "75%         0 days 01:37:44.500000\n",
              "max                0 days 03:15:26\n",
              "Name: length, dtype: object"
            ]
          },
          "metadata": {},
          "execution_count": 378
        }
      ]
    },
    {
      "cell_type": "code",
      "metadata": {
        "id": "4mabQ-08jV9a"
      },
      "source": [
        ""
      ],
      "execution_count": 374,
      "outputs": []
    },
    {
      "cell_type": "code",
      "metadata": {
        "colab": {
          "base_uri": "https://localhost:8080/"
        },
        "id": "C2gmMdiijgfB",
        "outputId": "f2240b48-1b83-41ac-a53f-ba982cfb6ad5"
      },
      "source": [
        "routes.length.describe()"
      ],
      "execution_count": 376,
      "outputs": [
        {
          "output_type": "execute_result",
          "data": {
            "text/plain": [
              "count                         1241\n",
              "mean     0 days 01:29:57.339242546\n",
              "std      0 days 00:29:12.139752715\n",
              "min                0 days 00:00:31\n",
              "25%                0 days 01:10:36\n",
              "50%                0 days 01:27:10\n",
              "75%                0 days 01:49:22\n",
              "max                0 days 03:47:45\n",
              "Name: length, dtype: object"
            ]
          },
          "metadata": {},
          "execution_count": 376
        }
      ]
    },
    {
      "cell_type": "code",
      "metadata": {
        "colab": {
          "base_uri": "https://localhost:8080/"
        },
        "id": "E1t0nPAIl26k",
        "outputId": "d02e6b75-602a-438d-ba2e-7565bc65ff88"
      },
      "source": [
        "minlen = routes.sort_values('length').drop_duplicates(subset = 'school_id', keep = 'first')\n",
        "minlen.length.describe()\n"
      ],
      "execution_count": 379,
      "outputs": [
        {
          "output_type": "execute_result",
          "data": {
            "text/plain": [
              "count                          280\n",
              "mean     0 days 01:13:08.482142857\n",
              "std      0 days 00:26:30.237352846\n",
              "min                0 days 00:00:31\n",
              "25%         0 days 00:54:36.250000\n",
              "50%                0 days 01:12:16\n",
              "75%         0 days 01:30:28.250000\n",
              "max                0 days 02:49:53\n",
              "Name: length, dtype: object"
            ]
          },
          "metadata": {},
          "execution_count": 379
        }
      ]
    },
    {
      "cell_type": "code",
      "metadata": {
        "colab": {
          "base_uri": "https://localhost:8080/"
        },
        "id": "4-uVB7L6ovrv",
        "outputId": "0a676c9b-b6fe-4158-ef31-327f9be1e25a"
      },
      "source": [
        "sum(minlen.length > datetime.timedelta(hours = 1))"
      ],
      "execution_count": 383,
      "outputs": [
        {
          "output_type": "execute_result",
          "data": {
            "text/plain": [
              "187"
            ]
          },
          "metadata": {},
          "execution_count": 383
        }
      ]
    },
    {
      "cell_type": "code",
      "metadata": {
        "id": "wWM57a1gpEM6"
      },
      "source": [
        ""
      ],
      "execution_count": null,
      "outputs": []
    }
  ]
}